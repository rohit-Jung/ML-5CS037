{
 "cells": [
  {
   "cell_type": "markdown",
   "metadata": {},
   "source": [
    "## Problem 1: Array Creation.\n",
    "Complete the following tasks:\n",
    "1. Initialize an empty array with size 2X2.\n",
    "2. Initialize an all one array with size 4X2.\n",
    "3. Return a new array of given shape and type, filled with fill value.{Hint: np.full}\n",
    "4. Return a new array of zeros with same shape and type as a given array.{Hint: np.zeros like}\n",
    "5. Return a new array of ones with same shape and type as a given array.{Hint: np.ones like}\n",
    "6. For an existing list new_list = [1,2,3,4] convert to an numpy array.{Hint: np.array()}"
   ]
  },
  {
   "cell_type": "code",
   "execution_count": 1,
   "metadata": {},
   "outputs": [],
   "source": [
    "import numpy as np\n",
    "import pandas as pd\n"
   ]
  },
  {
   "cell_type": "code",
   "execution_count": 2,
   "metadata": {},
   "outputs": [
    {
     "data": {
      "text/plain": [
       "array([[0.00000000e+000, 1.30327875e-311],\n",
       "       [1.30327875e-311, 1.30327875e-311]])"
      ]
     },
     "execution_count": 2,
     "metadata": {},
     "output_type": "execute_result"
    }
   ],
   "source": [
    "# Creating arrays\n",
    "empty_array = np.empty((2,2))\n",
    "empty_array"
   ]
  },
  {
   "cell_type": "code",
   "execution_count": 3,
   "metadata": {},
   "outputs": [
    {
     "data": {
      "text/plain": [
       "array([[1., 1.],\n",
       "       [1., 1.],\n",
       "       [1., 1.],\n",
       "       [1., 1.]])"
      ]
     },
     "execution_count": 3,
     "metadata": {},
     "output_type": "execute_result"
    }
   ],
   "source": [
    "#all ones array\n",
    "ones_array = np.ones((4,2))\n",
    "ones_array"
   ]
  },
  {
   "cell_type": "code",
   "execution_count": 4,
   "metadata": {},
   "outputs": [
    {
     "data": {
      "text/plain": [
       "array([[7, 7, 7],\n",
       "       [7, 7, 7],\n",
       "       [7, 7, 7]])"
      ]
     },
     "execution_count": 4,
     "metadata": {},
     "output_type": "execute_result"
    }
   ],
   "source": [
    "#filled array of given shape and size\n",
    "\n",
    "filled_array = np.full((3,3), 7)\n",
    "filled_array"
   ]
  },
  {
   "cell_type": "code",
   "execution_count": 5,
   "metadata": {},
   "outputs": [
    {
     "data": {
      "text/plain": [
       "array([[0, 0, 0],\n",
       "       [0, 0, 0],\n",
       "       [0, 0, 0]])"
      ]
     },
     "execution_count": 5,
     "metadata": {},
     "output_type": "execute_result"
    }
   ],
   "source": [
    "#zeros like array of given shape and size\n",
    "zeros_array = np.zeros_like(filled_array)\n",
    "zeros_array"
   ]
  },
  {
   "cell_type": "code",
   "execution_count": 6,
   "metadata": {},
   "outputs": [
    {
     "data": {
      "text/plain": [
       "array([[1, 1, 1],\n",
       "       [1, 1, 1],\n",
       "       [1, 1, 1]])"
      ]
     },
     "execution_count": 6,
     "metadata": {},
     "output_type": "execute_result"
    }
   ],
   "source": [
    "#ones like array of given shape and size\n",
    "ones_array = np.ones_like(filled_array)\n",
    "ones_array"
   ]
  },
  {
   "cell_type": "code",
   "execution_count": 7,
   "metadata": {},
   "outputs": [
    {
     "data": {
      "text/plain": [
       "array([1, 2, 3, 4, 5])"
      ]
     },
     "execution_count": 7,
     "metadata": {},
     "output_type": "execute_result"
    }
   ],
   "source": [
    "new_list = [1, 2, 3, 4, 5]\n",
    "numpy_array = np.array(new_list)\n",
    "numpy_array"
   ]
  },
  {
   "cell_type": "markdown",
   "metadata": {},
   "source": [
    "## Problem 2: Array Manipulation: Numerical Ranges and Array indexing\n",
    "\n",
    "• Numerical Ranges and Array Indexing:\n",
    "1. Create an array with values ranging from 10 to 49. {Hint:np.arrange()}.\n",
    "2. Create a 3X3 matrix with values ranging from 0 to 8.\n",
    "{Hint:look for np.reshape()}\n",
    "3. Create a 3X3 identity matrix.{Hint:np.eye()}\n",
    "4. Create a random array of size 30 and find the mean of the array.\n",
    "{Hint:check for np.random.random() and array.mean() function}\n",
    "5. Create a 10X10 array with random values and find the minimum and maximum values.\n",
    "6. Create a zero array of size 10 and replace 5th element with 1.\n",
    "7. Reverse an array arr = [1,2,0,0,4,0].\n",
    "8. Create a 2d array with 1 on border and 0 inside.\n",
    "9. Create a 8X8 matrix and fill it with a checkerboard pattern."
   ]
  },
  {
   "cell_type": "code",
   "execution_count": 8,
   "metadata": {},
   "outputs": [
    {
     "data": {
      "text/plain": [
       "array([10, 11, 12, 13, 14, 15, 16, 17, 18, 19, 20, 21, 22, 23, 24, 25, 26,\n",
       "       27, 28, 29, 30, 31, 32, 33, 34, 35, 36, 37, 38, 39, 40, 41, 42, 43,\n",
       "       44, 45, 46, 47, 48, 49])"
      ]
     },
     "execution_count": 8,
     "metadata": {},
     "output_type": "execute_result"
    }
   ],
   "source": [
    "#create an array of certain range\n",
    "array_range = np.arange(10, 50)\n",
    "array_range"
   ]
  },
  {
   "cell_type": "code",
   "execution_count": 9,
   "metadata": {},
   "outputs": [
    {
     "data": {
      "text/plain": [
       "array([[0, 1, 2],\n",
       "       [3, 4, 5],\n",
       "       [6, 7, 8]])"
      ]
     },
     "execution_count": 9,
     "metadata": {},
     "output_type": "execute_result"
    }
   ],
   "source": [
    "# creating a matrix with values from 0 to 8\n",
    "matrix = np.arange(9).reshape((3,3))\n",
    "matrix"
   ]
  },
  {
   "cell_type": "code",
   "execution_count": 10,
   "metadata": {},
   "outputs": [
    {
     "data": {
      "text/plain": [
       "array([[1., 0., 0.],\n",
       "       [0., 1., 0.],\n",
       "       [0., 0., 1.]])"
      ]
     },
     "execution_count": 10,
     "metadata": {},
     "output_type": "execute_result"
    }
   ],
   "source": [
    "# creating identity matrix\n",
    "identity_matrix = np.eye(3)\n",
    "identity_matrix"
   ]
  },
  {
   "cell_type": "code",
   "execution_count": 11,
   "metadata": {},
   "outputs": [
    {
     "data": {
      "text/plain": [
       "0.4064474223946782"
      ]
     },
     "execution_count": 11,
     "metadata": {},
     "output_type": "execute_result"
    }
   ],
   "source": [
    "#creating a random array of size 30\n",
    "random_array = np.random.random(30)\n",
    "random_array_mean = random_array.mean()\n",
    "random_array_mean"
   ]
  },
  {
   "cell_type": "code",
   "execution_count": 12,
   "metadata": {},
   "outputs": [
    {
     "data": {
      "text/plain": [
       "array([[0.01709943, 0.55158669, 0.92565545, 0.2628903 , 0.34578031,\n",
       "        0.08789803, 0.51194026, 0.30514115, 0.23064444, 0.39543862],\n",
       "       [0.283317  , 0.33587264, 0.23891508, 0.07222625, 0.48676836,\n",
       "        0.16900143, 0.65733247, 0.12094721, 0.11962719, 0.44899442],\n",
       "       [0.95050984, 0.77174766, 0.97583438, 0.25967793, 0.49197641,\n",
       "        0.20138795, 0.55189168, 0.99619886, 0.21702311, 0.43872137],\n",
       "       [0.93227306, 0.9357319 , 0.33492903, 0.61449282, 0.35666921,\n",
       "        0.37805511, 0.19080807, 0.86347374, 0.54624977, 0.50769866],\n",
       "       [0.64487638, 0.82063031, 0.19516434, 0.79581083, 0.60148802,\n",
       "        0.06548645, 0.6084059 , 0.47516408, 0.34278078, 0.19059436],\n",
       "       [0.95880752, 0.51402255, 0.96328398, 0.25895602, 0.14064022,\n",
       "        0.18884443, 0.65892899, 0.9263382 , 0.2365797 , 0.03155147],\n",
       "       [0.97257194, 0.25258657, 0.89067926, 0.16189539, 0.37411618,\n",
       "        0.80410264, 0.01797463, 0.35083583, 0.37373837, 0.90287546],\n",
       "       [0.06792597, 0.71367423, 0.63402129, 0.73925247, 0.93283986,\n",
       "        0.63190838, 0.05028291, 0.02851289, 0.74822324, 0.04995774],\n",
       "       [0.90724008, 0.53263178, 0.58579776, 0.95533726, 0.45753989,\n",
       "        0.35375876, 0.32561057, 0.7281565 , 0.65439107, 0.50024999],\n",
       "       [0.59493107, 0.49723538, 0.48254976, 0.01240158, 0.15533596,\n",
       "        0.20709288, 0.98718793, 0.32275374, 0.92193021, 0.81414458]])"
      ]
     },
     "execution_count": 12,
     "metadata": {},
     "output_type": "execute_result"
    }
   ],
   "source": [
    "#creating a random matrix fo 10*10\n",
    "random_array_10 = np.random.random((10,10))\n",
    "random_array_10"
   ]
  },
  {
   "cell_type": "code",
   "execution_count": 13,
   "metadata": {},
   "outputs": [
    {
     "data": {
      "text/plain": [
       "0.9961988604660126"
      ]
     },
     "execution_count": 13,
     "metadata": {},
     "output_type": "execute_result"
    }
   ],
   "source": [
    "#maximum of the array\n",
    "random_array_10_max = random_array_10.max()\n",
    "random_array_10_max"
   ]
  },
  {
   "cell_type": "code",
   "execution_count": 14,
   "metadata": {},
   "outputs": [
    {
     "data": {
      "text/plain": [
       "0.012401579603864676"
      ]
     },
     "execution_count": 14,
     "metadata": {},
     "output_type": "execute_result"
    }
   ],
   "source": [
    "#minimum of the array\n",
    "random_array_10_min = random_array_10.min()\n",
    "random_array_10_min"
   ]
  },
  {
   "cell_type": "code",
   "execution_count": 15,
   "metadata": {},
   "outputs": [
    {
     "data": {
      "text/plain": [
       "array([0., 0., 0., 0., 0., 0., 0., 0., 0., 0.])"
      ]
     },
     "execution_count": 15,
     "metadata": {},
     "output_type": "execute_result"
    }
   ],
   "source": [
    "#zeros array of size 10\n",
    "zeros_array = np.zeros(10)\n",
    "zeros_array"
   ]
  },
  {
   "cell_type": "code",
   "execution_count": 16,
   "metadata": {},
   "outputs": [
    {
     "data": {
      "text/plain": [
       "array([0., 0., 0., 0., 5., 0., 0., 0., 0., 0.])"
      ]
     },
     "execution_count": 16,
     "metadata": {},
     "output_type": "execute_result"
    }
   ],
   "source": [
    "#replacing the fifth element with 5\n",
    "zeros_array[4] = 5\n",
    "zeros_array"
   ]
  },
  {
   "cell_type": "code",
   "execution_count": 17,
   "metadata": {},
   "outputs": [
    {
     "data": {
      "text/plain": [
       "array([0, 4, 0, 0, 2, 1])"
      ]
     },
     "execution_count": 17,
     "metadata": {},
     "output_type": "execute_result"
    }
   ],
   "source": [
    "#reverse numpy array\n",
    "arr = np.array([1,2,0,0,4,0])\n",
    "reversed_array = np.flip(arr)\n",
    "reversed_array"
   ]
  },
  {
   "cell_type": "code",
   "execution_count": 18,
   "metadata": {},
   "outputs": [
    {
     "data": {
      "text/plain": [
       "array([[1., 1., 1., 1., 1.],\n",
       "       [1., 0., 0., 0., 1.],\n",
       "       [1., 0., 0., 0., 1.],\n",
       "       [1., 0., 0., 0., 1.],\n",
       "       [1., 1., 1., 1., 1.]])"
      ]
     },
     "execution_count": 18,
     "metadata": {},
     "output_type": "execute_result"
    }
   ],
   "source": [
    "#creating array of border 1\n",
    "one_border = np.ones((5,5))\n",
    "one_border[1:-1, 1:-1] = 0\n",
    "one_border"
   ]
  },
  {
   "cell_type": "code",
   "execution_count": 19,
   "metadata": {},
   "outputs": [
    {
     "data": {
      "text/plain": [
       "array([[0, 1, 0, 1, 0, 1, 0, 1],\n",
       "       [1, 0, 1, 0, 1, 0, 1, 0],\n",
       "       [0, 1, 0, 1, 0, 1, 0, 1],\n",
       "       [1, 0, 1, 0, 1, 0, 1, 0],\n",
       "       [0, 1, 0, 1, 0, 1, 0, 1],\n",
       "       [1, 0, 1, 0, 1, 0, 1, 0],\n",
       "       [0, 1, 0, 1, 0, 1, 0, 1],\n",
       "       [1, 0, 1, 0, 1, 0, 1, 0]])"
      ]
     },
     "execution_count": 19,
     "metadata": {},
     "output_type": "execute_result"
    }
   ],
   "source": [
    "# creating a checkboard like pattern\n",
    "checkboard = np.zeros((8, 8), dtype=int)\n",
    "checkboard[1::2 , ::2] = 1\n",
    "checkboard[0::2, 1::2] = 1\n",
    "checkboard"
   ]
  },
  {
   "cell_type": "markdown",
   "metadata": {},
   "source": [
    "## Problem 3: Array and Matrix Operations\n",
    "\n",
    "For the following arrays:\n",
    "x = np.array([[1,2],[3,5]]) and y = np.array([[5,6],[7,8]]);\n",
    "v = np.array([9,10]) and w = np.array([11,12]);\n",
    "\n",
    "Perform following with numpy:\n",
    "1. Add the two array.\n",
    "2. Subtract the two array.\n",
    "3. Multiply the array with any integers of your choice.\n",
    "4. Find the square of each element of the array.\n",
    "5. Find the dot product between: v(and)w ; x(and)v ; x(and)y.\n",
    "6. Concatenate x(and)y along row and Concatenate v(and)w along column.\n",
    "    {Hint:try np.concatenate() or np.vstack() functions.}\n",
    "7. Concatenate x(and)v; if you get an error, observe and explain why did you get the error?"
   ]
  },
  {
   "cell_type": "code",
   "execution_count": 20,
   "metadata": {},
   "outputs": [
    {
     "data": {
      "text/plain": [
       "array([[ 6,  8],\n",
       "       [10, 13]])"
      ]
     },
     "execution_count": 20,
     "metadata": {},
     "output_type": "execute_result"
    }
   ],
   "source": [
    "x = np.array([[1,2],[3,5]]) \n",
    "y = np.array([[5,6],[7,8]]);\n",
    "v = np.array([9,10]) \n",
    "w = np.array([11,12]);\n",
    "\n",
    "#Addition\n",
    "additon_result = np.add(x, y)\n",
    "additon_result"
   ]
  },
  {
   "cell_type": "code",
   "execution_count": 21,
   "metadata": {},
   "outputs": [
    {
     "data": {
      "text/plain": [
       "array([20, 22])"
      ]
     },
     "execution_count": 21,
     "metadata": {},
     "output_type": "execute_result"
    }
   ],
   "source": [
    "additon_result2 = np.add(v, w)\n",
    "additon_result2"
   ]
  },
  {
   "cell_type": "code",
   "execution_count": 22,
   "metadata": {},
   "outputs": [
    {
     "data": {
      "text/plain": [
       "array([[-4, -4],\n",
       "       [-4, -3]])"
      ]
     },
     "execution_count": 22,
     "metadata": {},
     "output_type": "execute_result"
    }
   ],
   "source": [
    "#Subtraction\n",
    "subtraction_result = np.subtract(x, y)\n",
    "subtraction_result"
   ]
  },
  {
   "cell_type": "code",
   "execution_count": 23,
   "metadata": {},
   "outputs": [
    {
     "data": {
      "text/plain": [
       "array([-2, -2])"
      ]
     },
     "execution_count": 23,
     "metadata": {},
     "output_type": "execute_result"
    }
   ],
   "source": [
    "subtraction_result2 = np.subtract(v, w)\n",
    "subtraction_result2"
   ]
  },
  {
   "cell_type": "code",
   "execution_count": 24,
   "metadata": {},
   "outputs": [
    {
     "data": {
      "text/plain": [
       "array([[ 3,  6],\n",
       "       [ 9, 15]])"
      ]
     },
     "execution_count": 24,
     "metadata": {},
     "output_type": "execute_result"
    }
   ],
   "source": [
    "#Multiplication\n",
    "multiplication_result = np.multiply(x, 3)\n",
    "multiplication_result"
   ]
  },
  {
   "cell_type": "code",
   "execution_count": 25,
   "metadata": {},
   "outputs": [
    {
     "data": {
      "text/plain": [
       "array([[25, 36],\n",
       "       [49, 64]])"
      ]
     },
     "execution_count": 25,
     "metadata": {},
     "output_type": "execute_result"
    }
   ],
   "source": [
    "#Square of each element of array \n",
    "square_result = np.square(y)\n",
    "square_result"
   ]
  },
  {
   "cell_type": "code",
   "execution_count": 26,
   "metadata": {},
   "outputs": [
    {
     "data": {
      "text/plain": [
       "219"
      ]
     },
     "execution_count": 26,
     "metadata": {},
     "output_type": "execute_result"
    }
   ],
   "source": [
    "#finding the dotProduct\n",
    "dot_product_result = np.dot(v, w)\n",
    "dot_product_result"
   ]
  },
  {
   "cell_type": "code",
   "execution_count": 27,
   "metadata": {},
   "outputs": [
    {
     "data": {
      "text/plain": [
       "array([29, 77])"
      ]
     },
     "execution_count": 27,
     "metadata": {},
     "output_type": "execute_result"
    }
   ],
   "source": [
    "dot_product_result1 = np.dot(x, v)\n",
    "dot_product_result1"
   ]
  },
  {
   "cell_type": "code",
   "execution_count": 28,
   "metadata": {},
   "outputs": [
    {
     "data": {
      "text/plain": [
       "array([[19, 22],\n",
       "       [50, 58]])"
      ]
     },
     "execution_count": 28,
     "metadata": {},
     "output_type": "execute_result"
    }
   ],
   "source": [
    "dot_product_result2 = np.dot(x,y)\n",
    "dot_product_result2 "
   ]
  },
  {
   "cell_type": "code",
   "execution_count": 29,
   "metadata": {},
   "outputs": [
    {
     "data": {
      "text/plain": [
       "array([[1, 2],\n",
       "       [3, 5],\n",
       "       [5, 6],\n",
       "       [7, 8]])"
      ]
     },
     "execution_count": 29,
     "metadata": {},
     "output_type": "execute_result"
    }
   ],
   "source": [
    "# Concatenate x and y along rows\n",
    "xy_concatenated = np.vstack((x, y))  # or np.concatenate((x, y), axis=0)\n",
    "xy_concatenated"
   ]
  },
  {
   "cell_type": "code",
   "execution_count": 30,
   "metadata": {},
   "outputs": [
    {
     "data": {
      "text/plain": [
       "array([ 9, 10, 11, 12])"
      ]
     },
     "execution_count": 30,
     "metadata": {},
     "output_type": "execute_result"
    }
   ],
   "source": [
    "# Concatenate v and w along columns\n",
    "vw_concatenated = np.hstack((v, w))  # or np.concatenate((v, w), axis=1)\n",
    "vw_concatenated"
   ]
  },
  {
   "cell_type": "code",
   "execution_count": 31,
   "metadata": {},
   "outputs": [
    {
     "ename": "ValueError",
     "evalue": "all the input arrays must have same number of dimensions, but the array at index 0 has 2 dimension(s) and the array at index 1 has 1 dimension(s)",
     "output_type": "error",
     "traceback": [
      "\u001b[1;31m---------------------------------------------------------------------------\u001b[0m",
      "\u001b[1;31mValueError\u001b[0m                                Traceback (most recent call last)",
      "Cell \u001b[1;32mIn[31], line 1\u001b[0m\n\u001b[1;32m----> 1\u001b[0m error_concat \u001b[38;5;241m=\u001b[39m \u001b[43mnp\u001b[49m\u001b[38;5;241;43m.\u001b[39;49m\u001b[43mconcatenate\u001b[49m\u001b[43m(\u001b[49m\u001b[43m(\u001b[49m\u001b[43mx\u001b[49m\u001b[43m,\u001b[49m\u001b[43m \u001b[49m\u001b[43mv\u001b[49m\u001b[43m)\u001b[49m\u001b[43m)\u001b[49m\n\u001b[0;32m      2\u001b[0m error_concat\n",
      "\u001b[1;31mValueError\u001b[0m: all the input arrays must have same number of dimensions, but the array at index 0 has 2 dimension(s) and the array at index 1 has 1 dimension(s)"
     ]
    }
   ],
   "source": [
    "error_concat = np.concatenate((x, v))\n",
    "error_concat"
   ]
  },
  {
   "cell_type": "markdown",
   "metadata": {},
   "source": [
    "### Problem 4: Matrix Operations\n",
    "\n",
    "• For the following arrays:\n",
    "A = np.array([[3,4],[7,8]]) and B = np.array([[5,3],[2,1]]);\n",
    "Prove following with Numpy:\n",
    "1. Prove A.A−1 = I.\n",
    "2. Prove AB !== BA.\n",
    "3. Prove (AB)T = BT AT\n",
    "\n",
    "\n",
    "• Solve the following system of Linear equation using Inverse Methods.\n",
    "2x − 3y + z = −1\n",
    "x − y + 2z = −3\n",
    "3x + y − z = 9\n",
    "\n",
    "{Hint: First use Numpy array to represent the equation in Matrix form. Then Solve for: AX = B}\n",
    "• Now: solve the above equation using np.linalg.inv function.{Explore more about ”linalg” function of\n",
    "Numpy}"
   ]
  },
  {
   "cell_type": "code",
   "execution_count": 5,
   "metadata": {},
   "outputs": [
    {
     "data": {
      "text/plain": [
       "True"
      ]
     },
     "execution_count": 5,
     "metadata": {},
     "output_type": "execute_result"
    }
   ],
   "source": [
    "A = np.array([[3,4],[7,8]]) \n",
    "B = np.array([[5,3],[2,1]])\n",
    "\n",
    "#Creating A inverse matrix\n",
    "a_inverse = np.linalg.inv(A)\n",
    "\n",
    "# Proving A.A^(-1) = I\n",
    "AXA_inverse = np.dot(A, a_inverse)\n",
    "\n",
    "#Creating a Identity matrix\n",
    "I = np.eye(2)\n",
    "\n",
    "#Comparing the two \n",
    "A_A_inverse_result = np.allclose(AXA_inverse, I)\n",
    "A_A_inverse_result"
   ]
  },
  {
   "cell_type": "code",
   "execution_count": 6,
   "metadata": {},
   "outputs": [
    {
     "data": {
      "text/plain": [
       "False"
      ]
     },
     "execution_count": 6,
     "metadata": {},
     "output_type": "execute_result"
    }
   ],
   "source": [
    "# Proving AB!= BA\n",
    "AB_result = np.dot(A, B)\n",
    "BA_result = np.dot(B, A)\n",
    "\n",
    "#Comparing the two\n",
    "AB_BA_result = np.allclose(AB_result, BA_result)\n",
    "AB_BA_result"
   ]
  },
  {
   "cell_type": "code",
   "execution_count": 9,
   "metadata": {},
   "outputs": [
    {
     "data": {
      "text/plain": [
       "True"
      ]
     },
     "execution_count": 9,
     "metadata": {},
     "output_type": "execute_result"
    }
   ],
   "source": [
    "#Proving (AB)^T = A^T * B^T\n",
    "AB_T = np.transpose(AB_result)\n",
    "AT_BT = np.dot(np.transpose(B),np.transpose(A))\n",
    "\n",
    "#Comparing the two\n",
    "AB_TXAT_BT_result = np.allclose(AB_T, AT_BT)\n",
    "AB_TXAT_BT_result"
   ]
  },
  {
   "cell_type": "code",
   "execution_count": 12,
   "metadata": {},
   "outputs": [
    {
     "data": {
      "text/plain": [
       "array([ 2.,  1., -2.])"
      ]
     },
     "execution_count": 12,
     "metadata": {},
     "output_type": "execute_result"
    }
   ],
   "source": [
    "#Solving the equation \n",
    "\n",
    "#Representing in the matrix form \n",
    "A = np.array([[2, -3, 1],[1, -1, 2],[3, 1, -1]])\n",
    "B = np.array([-1, -3, 9])\n",
    "\n",
    "#Since AX = B so X = A^-1 * B\n",
    "#Calculating the inverse of A\n",
    "A_inverse = np.linalg.inv(A)\n",
    "\n",
    "#Solving for X\n",
    "X = np.dot(A_inverse, B)\n",
    "X"
   ]
  },
  {
   "cell_type": "code",
   "execution_count": 13,
   "metadata": {},
   "outputs": [
    {
     "data": {
      "text/plain": [
       "array([ 2.,  1., -2.])"
      ]
     },
     "execution_count": 13,
     "metadata": {},
     "output_type": "execute_result"
    }
   ],
   "source": [
    "#Solving using linalg.inv.solve\n",
    "X_solve = np.linalg.solve(A, B)\n",
    "X_solve"
   ]
  },
  {
   "cell_type": "markdown",
   "metadata": {},
   "source": [
    "### Experiment: How Fast is NumPy ? \n",
    "\n",
    "In this exercise, you will compare the performance and implementation of operations using plain Python\n",
    "lists (arrays) and NumPy arrays. Follow the instructions:"
   ]
  },
  {
   "cell_type": "markdown",
   "metadata": {},
   "source": [
    "1. Element-wise Addition:\n",
    "\n",
    "• Using Python Lists, perform element-wise addition of two lists of size 1, 000, 000. Measure\n",
    "and Print the time taken for this operation.\n",
    "\n",
    "• Using Numpy Arrays, Repeat the calculation and measure and print the time taken for this\n",
    "operation."
   ]
  },
  {
   "cell_type": "code",
   "execution_count": 1,
   "metadata": {},
   "outputs": [],
   "source": [
    "from timeit import timeit"
   ]
  },
  {
   "cell_type": "code",
   "execution_count": 2,
   "metadata": {},
   "outputs": [
    {
     "name": "stdout",
     "output_type": "stream",
     "text": [
      "0.18000499999993735\n"
     ]
    }
   ],
   "source": [
    "# performing element wise addition using python lists\n",
    "list_size = 1_000_000\n",
    "list1 = list(range(list_size))\n",
    "list2 = list(range(list_size))\n",
    "\n",
    "result1 = timeit(lambda: [list1[i] + list2[i] for i in range(list_size)], number=1)\n",
    "print(result1)"
   ]
  },
  {
   "cell_type": "code",
   "execution_count": 38,
   "metadata": {},
   "outputs": [
    {
     "name": "stdout",
     "output_type": "stream",
     "text": [
      "0.002318700000046192\n"
     ]
    }
   ],
   "source": [
    "# performing element wise addition using numpy arrays\n",
    "array1 = np.arange(list_size)\n",
    "array2 = np.arange(list_size)\n",
    "\n",
    "result2 = timeit(lambda: array1 + array2, number=1) \n",
    "print(result2)"
   ]
  },
  {
   "cell_type": "markdown",
   "metadata": {},
   "source": [
    "2. Element-wise Multiplication\n",
    "\n",
    "• Using Python Lists, perform element-wise multiplication of two lists of size 1, 000, 000. Measure and Print the time taken for this operation.\n",
    "\n",
    "• Using Numpy Arrays, Repeat the calculation and measure and print the time taken for this operation."
   ]
  },
  {
   "cell_type": "code",
   "execution_count": 39,
   "metadata": {},
   "outputs": [
    {
     "name": "stdout",
     "output_type": "stream",
     "text": [
      "0.16052739999997812\n"
     ]
    }
   ],
   "source": [
    "# performing element wise multiplication using  python lists\n",
    "\n",
    "result3 = timeit(lambda: [list1[i] * list2[i] for i in range(list_size)], number=1)\n",
    "print(result3)"
   ]
  },
  {
   "cell_type": "code",
   "execution_count": 40,
   "metadata": {},
   "outputs": [
    {
     "name": "stdout",
     "output_type": "stream",
     "text": [
      "0.0024678999999423468\n"
     ]
    }
   ],
   "source": [
    "# performing element wise multiplication using numpy array\n",
    "\n",
    "result4 = timeit(lambda: array1 * array2, number=1)\n",
    "print(result4)"
   ]
  },
  {
   "cell_type": "markdown",
   "metadata": {},
   "source": [
    "3. Dot Product\n",
    "\n",
    "• Using Python Lists, compute the dot product of two lists of size 1, 000, 000. Measure and Print the time taken for this operation.\n",
    "\n",
    "• Using Numpy Arrays, Repeat the calculation and measure and print the time taken for this operation."
   ]
  },
  {
   "cell_type": "code",
   "execution_count": 41,
   "metadata": {},
   "outputs": [
    {
     "name": "stdout",
     "output_type": "stream",
     "text": [
      "Time taken for dot product using Python lists: 0.204645199999959 seconds\n"
     ]
    }
   ],
   "source": [
    "# dot product using python lists\n",
    "dot_start_time = timeit(lambda: sum(list1[i] * list2[i] for i in range(list_size)), number=1)\n",
    "print(f\"Time taken for dot product using Python lists: {dot_start_time} seconds\")"
   ]
  },
  {
   "cell_type": "code",
   "execution_count": 45,
   "metadata": {},
   "outputs": [
    {
     "name": "stdout",
     "output_type": "stream",
     "text": [
      "Dot product using Numpy arrays: 584144992 seconds\n",
      "Time taken for dot product using Numpy arrays: 0.0009985000000369837 seconds\n"
     ]
    }
   ],
   "source": [
    "# dot product using numpy array\n",
    "\n",
    "dot_product_array = np.dot(array1, array2)\n",
    "dot_start_time = timeit(lambda: np.dot(array1, array2), number=1)\n",
    "\n",
    "print(f\"Dot product using Numpy arrays: {dot_product_array} seconds\")\n",
    "print(f\"Time taken for dot product using Numpy arrays: {dot_start_time} seconds\")"
   ]
  },
  {
   "cell_type": "markdown",
   "metadata": {},
   "source": [
    "4. Matrix Multiplication\n",
    "\n",
    "• Using Python lists, perform matrix multiplication of two matrices of size 1000x1000. Measure\n",
    "and print the time taken for this operation.\n",
    "\n",
    "• Using NumPy arrays, perform matrix multiplication of two matrices of size 1000x1000. Mea-\n",
    "sure and print the time taken for this operation."
   ]
  },
  {
   "cell_type": "code",
   "execution_count": 47,
   "metadata": {},
   "outputs": [
    {
     "name": "stdout",
     "output_type": "stream",
     "text": [
      "Time taken for multiplication using Python lists: 0.00012540000011540542 seconds\n",
      "Time taken for multiplication using Numpy arrays: 9.500000010120857e-05 seconds\n"
     ]
    }
   ],
   "source": [
    "list_size = 1_000\n",
    "\n",
    "list1 = list(range(list_size))\n",
    "list2 = list(range(list_size))\n",
    "\n",
    "array1 = np.arange(list_size)\n",
    "array2 = np.arange(list_size)\n",
    "\n",
    "mul_python = timeit(lambda: [list1[i] * list2[i] for i in range(list_size)], number=1)\n",
    "print(f\"Time taken for multiplication using Python lists: {mul_python} seconds\")\n",
    "\n",
    "mul_numpy = timeit(lambda: np.dot(array1, array2), number=1)\n",
    "print(f\"Time taken for multiplication using Numpy arrays: {mul_numpy} seconds\")"
   ]
  }
 ],
 "metadata": {
  "kernelspec": {
   "display_name": "Python 3",
   "language": "python",
   "name": "python3"
  },
  "language_info": {
   "codemirror_mode": {
    "name": "ipython",
    "version": 3
   },
   "file_extension": ".py",
   "mimetype": "text/x-python",
   "name": "python",
   "nbconvert_exporter": "python",
   "pygments_lexer": "ipython3",
   "version": "3.12.1"
  }
 },
 "nbformat": 4,
 "nbformat_minor": 2
}
