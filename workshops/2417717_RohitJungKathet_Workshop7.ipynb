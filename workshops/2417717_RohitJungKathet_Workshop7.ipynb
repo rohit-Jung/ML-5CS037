{
 "cells": [
  {
   "cell_type": "code",
   "execution_count": 1,
   "metadata": {},
   "outputs": [],
   "source": [
    "import pandas as pd\n",
    "import numpy as np\n",
    "import matplotlib.pyplot as plt"
   ]
  },
  {
   "cell_type": "code",
   "execution_count": 2,
   "metadata": {},
   "outputs": [
    {
     "data": {
      "text/html": [
       "<div>\n",
       "<style scoped>\n",
       "    .dataframe tbody tr th:only-of-type {\n",
       "        vertical-align: middle;\n",
       "    }\n",
       "\n",
       "    .dataframe tbody tr th {\n",
       "        vertical-align: top;\n",
       "    }\n",
       "\n",
       "    .dataframe thead th {\n",
       "        text-align: right;\n",
       "    }\n",
       "</style>\n",
       "<table border=\"1\" class=\"dataframe\">\n",
       "  <thead>\n",
       "    <tr style=\"text-align: right;\">\n",
       "      <th></th>\n",
       "      <th>Pregnancies</th>\n",
       "      <th>Glucose</th>\n",
       "      <th>BloodPressure</th>\n",
       "      <th>SkinThickness</th>\n",
       "      <th>Insulin</th>\n",
       "      <th>BMI</th>\n",
       "      <th>DiabetesPedigreeFunction</th>\n",
       "      <th>Age</th>\n",
       "      <th>Outcome</th>\n",
       "    </tr>\n",
       "  </thead>\n",
       "  <tbody>\n",
       "    <tr>\n",
       "      <th>0</th>\n",
       "      <td>6</td>\n",
       "      <td>148</td>\n",
       "      <td>72</td>\n",
       "      <td>35</td>\n",
       "      <td>0</td>\n",
       "      <td>33.6</td>\n",
       "      <td>0.627</td>\n",
       "      <td>50</td>\n",
       "      <td>1</td>\n",
       "    </tr>\n",
       "    <tr>\n",
       "      <th>1</th>\n",
       "      <td>1</td>\n",
       "      <td>85</td>\n",
       "      <td>66</td>\n",
       "      <td>29</td>\n",
       "      <td>0</td>\n",
       "      <td>26.6</td>\n",
       "      <td>0.351</td>\n",
       "      <td>31</td>\n",
       "      <td>0</td>\n",
       "    </tr>\n",
       "    <tr>\n",
       "      <th>2</th>\n",
       "      <td>8</td>\n",
       "      <td>183</td>\n",
       "      <td>64</td>\n",
       "      <td>0</td>\n",
       "      <td>0</td>\n",
       "      <td>23.3</td>\n",
       "      <td>0.672</td>\n",
       "      <td>32</td>\n",
       "      <td>1</td>\n",
       "    </tr>\n",
       "    <tr>\n",
       "      <th>3</th>\n",
       "      <td>1</td>\n",
       "      <td>89</td>\n",
       "      <td>66</td>\n",
       "      <td>23</td>\n",
       "      <td>94</td>\n",
       "      <td>28.1</td>\n",
       "      <td>0.167</td>\n",
       "      <td>21</td>\n",
       "      <td>0</td>\n",
       "    </tr>\n",
       "    <tr>\n",
       "      <th>4</th>\n",
       "      <td>0</td>\n",
       "      <td>137</td>\n",
       "      <td>40</td>\n",
       "      <td>35</td>\n",
       "      <td>168</td>\n",
       "      <td>43.1</td>\n",
       "      <td>2.288</td>\n",
       "      <td>33</td>\n",
       "      <td>1</td>\n",
       "    </tr>\n",
       "  </tbody>\n",
       "</table>\n",
       "</div>"
      ],
      "text/plain": [
       "   Pregnancies  Glucose  BloodPressure  SkinThickness  Insulin   BMI  \\\n",
       "0            6      148             72             35        0  33.6   \n",
       "1            1       85             66             29        0  26.6   \n",
       "2            8      183             64              0        0  23.3   \n",
       "3            1       89             66             23       94  28.1   \n",
       "4            0      137             40             35      168  43.1   \n",
       "\n",
       "   DiabetesPedigreeFunction  Age  Outcome  \n",
       "0                     0.627   50        1  \n",
       "1                     0.351   31        0  \n",
       "2                     0.672   32        1  \n",
       "3                     0.167   21        0  \n",
       "4                     2.288   33        1  "
      ]
     },
     "execution_count": 2,
     "metadata": {},
     "output_type": "execute_result"
    }
   ],
   "source": [
    "df = pd.read_csv(\"../datasets/diabetes.csv\")\n",
    "df.head()"
   ]
  },
  {
   "cell_type": "code",
   "execution_count": 3,
   "metadata": {},
   "outputs": [
    {
     "name": "stdout",
     "output_type": "stream",
     "text": [
      "<class 'pandas.core.frame.DataFrame'>\n",
      "RangeIndex: 768 entries, 0 to 767\n",
      "Data columns (total 9 columns):\n",
      " #   Column                    Non-Null Count  Dtype  \n",
      "---  ------                    --------------  -----  \n",
      " 0   Pregnancies               768 non-null    int64  \n",
      " 1   Glucose                   768 non-null    int64  \n",
      " 2   BloodPressure             768 non-null    int64  \n",
      " 3   SkinThickness             768 non-null    int64  \n",
      " 4   Insulin                   768 non-null    int64  \n",
      " 5   BMI                       768 non-null    float64\n",
      " 6   DiabetesPedigreeFunction  768 non-null    float64\n",
      " 7   Age                       768 non-null    int64  \n",
      " 8   Outcome                   768 non-null    int64  \n",
      "dtypes: float64(2), int64(7)\n",
      "memory usage: 54.1 KB\n"
     ]
    }
   ],
   "source": [
    "df.info()"
   ]
  },
  {
   "cell_type": "code",
   "execution_count": 4,
   "metadata": {},
   "outputs": [],
   "source": [
    "X = df.drop(columns=['BloodPressure']).values\n",
    "y = df['BloodPressure'].values"
   ]
  },
  {
   "cell_type": "code",
   "execution_count": 5,
   "metadata": {},
   "outputs": [
    {
     "data": {
      "text/plain": [
       "array([[  1.   ,  95.   ,  18.   , ...,   0.26 ,  22.   ,   0.   ],\n",
       "       [  5.   , 105.   ,  29.   , ...,   0.159,  28.   ,   0.   ],\n",
       "       [  0.   , 135.   ,  42.   , ...,   0.365,  24.   ,   1.   ],\n",
       "       ...,\n",
       "       [ 10.   , 101.   ,  37.   , ...,   1.136,  38.   ,   1.   ],\n",
       "       [  0.   , 141.   ,   0.   , ...,   0.205,  29.   ,   1.   ],\n",
       "       [  0.   , 125.   ,   0.   , ...,   0.262,  21.   ,   0.   ]])"
      ]
     },
     "execution_count": 5,
     "metadata": {},
     "output_type": "execute_result"
    }
   ],
   "source": [
    "from sklearn.preprocessing import StandardScaler\n",
    "from sklearn.model_selection import train_test_split\n",
    "\n",
    "scaler = StandardScaler()\n",
    "X_train, X_test, y_train, y_test  = train_test_split(X, y, test_size=0.3, random_state=42) \n",
    "\n",
    "scaler.fit(X_train)\n",
    "X_train"
   ]
  },
  {
   "cell_type": "code",
   "execution_count": 6,
   "metadata": {},
   "outputs": [],
   "source": [
    "X_train_scaled = scaler.transform(X_train)\n",
    "X_test_scaled = scaler.transform(X_test)"
   ]
  },
  {
   "cell_type": "code",
   "execution_count": 7,
   "metadata": {},
   "outputs": [
    {
     "name": "stdout",
     "output_type": "stream",
     "text": [
      "Coefficients (Slope) [ 0.20150404  0.06366365  0.17557679 -0.0086838   0.47097289 -1.28839301\n",
      "  0.38874515 -3.07998913]\n",
      "Bias (Intercept) 32.11315928051293\n",
      "Mean Square Error: 401.4765313200544\n",
      "Coefficient of determination (r2 score): 0.16648039688888183\n"
     ]
    }
   ],
   "source": [
    "from sklearn.linear_model import LinearRegression\n",
    "from sklearn.metrics import mean_squared_error, r2_score\n",
    "\n",
    "linear = LinearRegression()\n",
    "linear.fit(X_train, y_train)\n",
    "y_pred = linear.predict(X_test)\n",
    "\n",
    "print(\"Coefficients (Slope)\", linear.coef_)\n",
    "print(\"Bias (Intercept)\", linear.intercept_)\n",
    "print(f\"Mean Square Error: {mean_squared_error(y_test, y_pred)}\")\n",
    "print(f\"Coefficient of determination (r2 score): {r2_score(y_test, y_pred)}\")"
   ]
  },
  {
   "cell_type": "code",
   "execution_count": 20,
   "metadata": {},
   "outputs": [
    {
     "name": "stderr",
     "output_type": "stream",
     "text": [
      "No artists with labels found to put in legend.  Note that artists whose label start with an underscore are ignored when legend() is called with no argument.\n"
     ]
    },
    {
     "data": {
      "image/png": "[encoded data removed]",
      "text/plain": [
       "<Figure size 640x480 with 1 Axes>"
      ]
     },
     "metadata": {},
     "output_type": "display_data"
    }
   ],
   "source": [
    "plt.scatter(y_test, y_pred, color=\"blue\", edgecolors=\"black\")\n",
    "plt.plot(y_train, y_train, color=\"red\", linestyle=\"--\")\n",
    "plt.xlabel(\"True Values\")\n",
    "plt.ylabel(\"Predicted Values\")\n",
    "plt.title(\"True vs Predicted Values\")\n",
    "plt.legend()\n",
    "plt.show()"
   ]
  },
  {
   "cell_type": "code",
   "execution_count": 22,
   "metadata": {},
   "outputs": [],
   "source": [
    "from sklearn.linear_model import LogisticRegression\n",
    "from sklearn.metrics import confusion_matrix, recall_score, precision_score, accuracy_score, f1_score, roc_auc_score"
   ]
  },
  {
   "cell_type": "code",
   "execution_count": 24,
   "metadata": {},
   "outputs": [
    {
     "name": "stdout",
     "output_type": "stream",
     "text": [
      "<class 'pandas.core.frame.DataFrame'>\n",
      "RangeIndex: 768 entries, 0 to 767\n",
      "Data columns (total 9 columns):\n",
      " #   Column                    Non-Null Count  Dtype  \n",
      "---  ------                    --------------  -----  \n",
      " 0   Pregnancies               768 non-null    int64  \n",
      " 1   Glucose                   768 non-null    int64  \n",
      " 2   BloodPressure             768 non-null    int64  \n",
      " 3   SkinThickness             768 non-null    int64  \n",
      " 4   Insulin                   768 non-null    int64  \n",
      " 5   BMI                       768 non-null    float64\n",
      " 6   DiabetesPedigreeFunction  768 non-null    float64\n",
      " 7   Age                       768 non-null    int64  \n",
      " 8   Outcome                   768 non-null    int64  \n",
      "dtypes: float64(2), int64(7)\n",
      "memory usage: 54.1 KB\n"
     ]
    }
   ],
   "source": [
    "df.info()"
   ]
  },
  {
   "cell_type": "code",
   "execution_count": 28,
   "metadata": {},
   "outputs": [],
   "source": [
    "X = df.drop(columns='Outcome')\n",
    "y = df['Outcome']"
   ]
  },
  {
   "cell_type": "code",
   "execution_count": 29,
   "metadata": {},
   "outputs": [],
   "source": [
    "X_train, X_test, y_train, y_test = train_test_split(X, y, random_state=42, test_size=0.25, stratify=y)"
   ]
  },
  {
   "cell_type": "code",
   "execution_count": 31,
   "metadata": {},
   "outputs": [
    {
     "data": {
      "text/plain": [
       "(192, 8)"
      ]
     },
     "execution_count": 31,
     "metadata": {},
     "output_type": "execute_result"
    }
   ],
   "source": [
    "X_train_scaled = scaler.fit_transform(X_train)\n",
    "X_test_scaled = scaler.transform(X_test)\n",
    "X_test_scaled.shape"
   ]
  },
  {
   "cell_type": "code",
   "execution_count": 33,
   "metadata": {},
   "outputs": [
    {
     "data": {
      "text/plain": [
       "(192,)"
      ]
     },
     "execution_count": 33,
     "metadata": {},
     "output_type": "execute_result"
    }
   ],
   "source": [
    "logistic = LogisticRegression()\n",
    "\n",
    "logistic.fit(X_train_scaled, y_train)\n",
    "y_pred = logistic.predict(X_test_scaled)\n",
    "y_pred.shape"
   ]
  },
  {
   "cell_type": "code",
   "execution_count": 36,
   "metadata": {},
   "outputs": [
    {
     "name": "stdout",
     "output_type": "stream",
     "text": [
      "Accuray Score is: 0.734375\n",
      "Precision Score is: 0.6481481481481481\n",
      "Recall score is: 0.5223880597014925\n",
      "ROC AUC score is: 0.6851940298507463\n"
     ]
    }
   ],
   "source": [
    "print(f\"Accuray Score is: {accuracy_score(y_test, y_pred)}\")\n",
    "print(f\"Precision Score is: {precision_score(y_test, y_pred)}\")\n",
    "print(f\"Recall score is: {recall_score(y_test, y_pred)}\")\n",
    "print(f\"ROC AUC score is: {roc_auc_score(y_test, y_pred)}\")"
   ]
  },
  {
   "cell_type": "code",
   "execution_count": 37,
   "metadata": {},
   "outputs": [
    {
     "data": {
      "text/html": [
       "<div>\n",
       "<style scoped>\n",
       "    .dataframe tbody tr th:only-of-type {\n",
       "        vertical-align: middle;\n",
       "    }\n",
       "\n",
       "    .dataframe tbody tr th {\n",
       "        vertical-align: top;\n",
       "    }\n",
       "\n",
       "    .dataframe thead th {\n",
       "        text-align: right;\n",
       "    }\n",
       "</style>\n",
       "<table border=\"1\" class=\"dataframe\">\n",
       "  <thead>\n",
       "    <tr style=\"text-align: right;\">\n",
       "      <th></th>\n",
       "      <th>TP</th>\n",
       "      <th>FN</th>\n",
       "    </tr>\n",
       "  </thead>\n",
       "  <tbody>\n",
       "    <tr>\n",
       "      <th>FP</th>\n",
       "      <td>106</td>\n",
       "      <td>19</td>\n",
       "    </tr>\n",
       "    <tr>\n",
       "      <th>TN</th>\n",
       "      <td>32</td>\n",
       "      <td>35</td>\n",
       "    </tr>\n",
       "  </tbody>\n",
       "</table>\n",
       "</div>"
      ],
      "text/plain": [
       "     TP  FN\n",
       "FP  106  19\n",
       "TN   32  35"
      ]
     },
     "execution_count": 37,
     "metadata": {},
     "output_type": "execute_result"
    }
   ],
   "source": [
    "cm = confusion_matrix(y_test, y_pred)\n",
    "cm_df = pd.DataFrame(cm, columns=['TP', 'FN'], index=['FP', 'TN'])\n",
    "cm_df"
   ]
  },
  {
   "cell_type": "code",
   "execution_count": 40,
   "metadata": {},
   "outputs": [
    {
     "data": {
      "text/plain": [
       "<Axes: >"
      ]
     },
     "execution_count": 40,
     "metadata": {},
     "output_type": "execute_result"
    },
    {
     "data": {
      "image/png": "[encoded data removed]",
      "text/plain": [
       "<Figure size 640x480 with 2 Axes>"
      ]
     },
     "metadata": {},
     "output_type": "display_data"
    }
   ],
   "source": [
    "import seaborn as sns\n",
    "\n",
    "sns.heatmap(cm_df, annot=True, fmt='d')"
   ]
  },
  {
   "cell_type": "code",
   "execution_count": 41,
   "metadata": {},
   "outputs": [
    {
     "data": {
      "text/plain": [
       "array([[0.56502632, 0.43497368],\n",
       "       [0.65719153, 0.34280847],\n",
       "       [0.89755866, 0.10244134],\n",
       "       [0.55294408, 0.44705592],\n",
       "       [0.20051925, 0.79948075],\n",
       "       [0.81659059, 0.18340941],\n",
       "       [0.66023391, 0.33976609],\n",
       "       [0.97764592, 0.02235408],\n",
       "       [0.37217937, 0.62782063],\n",
       "       [0.96061816, 0.03938184],\n",
       "       [0.76854369, 0.23145631],\n",
       "       [0.26929054, 0.73070946],\n",
       "       [0.73637928, 0.26362072],\n",
       "       [0.89480357, 0.10519643],\n",
       "       [0.45730576, 0.54269424],\n",
       "       [0.06564742, 0.93435258],\n",
       "       [0.35506084, 0.64493916],\n",
       "       [0.90082444, 0.09917556],\n",
       "       [0.96904502, 0.03095498],\n",
       "       [0.73530113, 0.26469887],\n",
       "       [0.92105747, 0.07894253],\n",
       "       [0.8380376 , 0.1619624 ],\n",
       "       [0.89895329, 0.10104671],\n",
       "       [0.21014156, 0.78985844],\n",
       "       [0.10966305, 0.89033695],\n",
       "       [0.19259157, 0.80740843],\n",
       "       [0.88014742, 0.11985258],\n",
       "       [0.92939152, 0.07060848],\n",
       "       [0.09647016, 0.90352984],\n",
       "       [0.23593745, 0.76406255],\n",
       "       [0.53741355, 0.46258645],\n",
       "       [0.99277388, 0.00722612],\n",
       "       [0.94404087, 0.05595913],\n",
       "       [0.88823667, 0.11176333],\n",
       "       [0.107401  , 0.892599  ],\n",
       "       [0.85002221, 0.14997779],\n",
       "       [0.66509738, 0.33490262],\n",
       "       [0.87625049, 0.12374951],\n",
       "       [0.85288159, 0.14711841],\n",
       "       [0.9243395 , 0.0756605 ],\n",
       "       [0.128211  , 0.871789  ],\n",
       "       [0.97698944, 0.02301056],\n",
       "       [0.85296199, 0.14703801],\n",
       "       [0.56969722, 0.43030278],\n",
       "       [0.18213184, 0.81786816],\n",
       "       [0.29308572, 0.70691428],\n",
       "       [0.16903364, 0.83096636],\n",
       "       [0.88306366, 0.11693634],\n",
       "       [0.28309016, 0.71690984],\n",
       "       [0.0116211 , 0.9883789 ],\n",
       "       [0.73589107, 0.26410893],\n",
       "       [0.66470395, 0.33529605],\n",
       "       [0.62667376, 0.37332624],\n",
       "       [0.86729328, 0.13270672],\n",
       "       [0.33907235, 0.66092765],\n",
       "       [0.67857551, 0.32142449],\n",
       "       [0.23750575, 0.76249425],\n",
       "       [0.81409571, 0.18590429],\n",
       "       [0.68282571, 0.31717429],\n",
       "       [0.38463702, 0.61536298],\n",
       "       [0.44535761, 0.55464239],\n",
       "       [0.43058402, 0.56941598],\n",
       "       [0.4796159 , 0.5203841 ],\n",
       "       [0.92519103, 0.07480897],\n",
       "       [0.83570634, 0.16429366],\n",
       "       [0.31581048, 0.68418952],\n",
       "       [0.96031678, 0.03968322],\n",
       "       [0.81184665, 0.18815335],\n",
       "       [0.86796341, 0.13203659],\n",
       "       [0.92107457, 0.07892543],\n",
       "       [0.64380955, 0.35619045],\n",
       "       [0.36114248, 0.63885752],\n",
       "       [0.21318121, 0.78681879],\n",
       "       [0.74420226, 0.25579774],\n",
       "       [0.99808149, 0.00191851],\n",
       "       [0.93477457, 0.06522543],\n",
       "       [0.88847594, 0.11152406],\n",
       "       [0.45794628, 0.54205372],\n",
       "       [0.9642326 , 0.0357674 ],\n",
       "       [0.90227352, 0.09772648],\n",
       "       [0.72595334, 0.27404666],\n",
       "       [0.15400978, 0.84599022],\n",
       "       [0.94802187, 0.05197813],\n",
       "       [0.98570612, 0.01429388],\n",
       "       [0.08602565, 0.91397435],\n",
       "       [0.63969817, 0.36030183],\n",
       "       [0.68554483, 0.31445517],\n",
       "       [0.67132014, 0.32867986],\n",
       "       [0.79396982, 0.20603018],\n",
       "       [0.87809988, 0.12190012],\n",
       "       [0.8838686 , 0.1161314 ],\n",
       "       [0.40929195, 0.59070805],\n",
       "       [0.95154459, 0.04845541],\n",
       "       [0.96388349, 0.03611651],\n",
       "       [0.71518435, 0.28481565],\n",
       "       [0.95959995, 0.04040005],\n",
       "       [0.7573478 , 0.2426522 ],\n",
       "       [0.87344386, 0.12655614],\n",
       "       [0.95860904, 0.04139096],\n",
       "       [0.83442393, 0.16557607],\n",
       "       [0.51727398, 0.48272602],\n",
       "       [0.54117215, 0.45882785],\n",
       "       [0.72669925, 0.27330075],\n",
       "       [0.80506571, 0.19493429],\n",
       "       [0.22974858, 0.77025142],\n",
       "       [0.69379044, 0.30620956],\n",
       "       [0.49778313, 0.50221687],\n",
       "       [0.67009791, 0.32990209],\n",
       "       [0.84838408, 0.15161592],\n",
       "       [0.63296393, 0.36703607],\n",
       "       [0.7453639 , 0.2546361 ],\n",
       "       [0.78894904, 0.21105096],\n",
       "       [0.92991732, 0.07008268],\n",
       "       [0.39697112, 0.60302888],\n",
       "       [0.15891569, 0.84108431],\n",
       "       [0.9285766 , 0.0714234 ],\n",
       "       [0.51319763, 0.48680237],\n",
       "       [0.45120479, 0.54879521],\n",
       "       [0.75752134, 0.24247866],\n",
       "       [0.17155045, 0.82844955],\n",
       "       [0.35273808, 0.64726192],\n",
       "       [0.32898763, 0.67101237],\n",
       "       [0.67442961, 0.32557039],\n",
       "       [0.87142179, 0.12857821],\n",
       "       [0.9951041 , 0.0048959 ],\n",
       "       [0.90674102, 0.09325898],\n",
       "       [0.91406957, 0.08593043],\n",
       "       [0.22704836, 0.77295164],\n",
       "       [0.87487998, 0.12512002],\n",
       "       [0.86001584, 0.13998416],\n",
       "       [0.50155522, 0.49844478],\n",
       "       [0.89658571, 0.10341429],\n",
       "       [0.54021645, 0.45978355],\n",
       "       [0.86925856, 0.13074144],\n",
       "       [0.8074683 , 0.1925317 ],\n",
       "       [0.94084186, 0.05915814],\n",
       "       [0.76863967, 0.23136033],\n",
       "       [0.93353664, 0.06646336],\n",
       "       [0.08046234, 0.91953766],\n",
       "       [0.64769422, 0.35230578],\n",
       "       [0.89368976, 0.10631024],\n",
       "       [0.71427705, 0.28572295],\n",
       "       [0.58793135, 0.41206865],\n",
       "       [0.72945217, 0.27054783],\n",
       "       [0.84134737, 0.15865263],\n",
       "       [0.93691461, 0.06308539],\n",
       "       [0.91582531, 0.08417469],\n",
       "       [0.73788748, 0.26211252],\n",
       "       [0.14858586, 0.85141414],\n",
       "       [0.8076287 , 0.1923713 ],\n",
       "       [0.68398726, 0.31601274],\n",
       "       [0.53776592, 0.46223408],\n",
       "       [0.44014366, 0.55985634],\n",
       "       [0.89192163, 0.10807837],\n",
       "       [0.5689644 , 0.4310356 ],\n",
       "       [0.68856542, 0.31143458],\n",
       "       [0.88085129, 0.11914871],\n",
       "       [0.84796922, 0.15203078],\n",
       "       [0.94618734, 0.05381266],\n",
       "       [0.82139376, 0.17860624],\n",
       "       [0.80985527, 0.19014473],\n",
       "       [0.79271667, 0.20728333],\n",
       "       [0.95618661, 0.04381339],\n",
       "       [0.3407025 , 0.6592975 ],\n",
       "       [0.45471721, 0.54528279],\n",
       "       [0.91054405, 0.08945595],\n",
       "       [0.45337665, 0.54662335],\n",
       "       [0.59442988, 0.40557012],\n",
       "       [0.27562785, 0.72437215],\n",
       "       [0.9237641 , 0.0762359 ],\n",
       "       [0.93415068, 0.06584932],\n",
       "       [0.24390742, 0.75609258],\n",
       "       [0.9557044 , 0.0442956 ],\n",
       "       [0.41999745, 0.58000255],\n",
       "       [0.84812738, 0.15187262],\n",
       "       [0.22686073, 0.77313927],\n",
       "       [0.80412157, 0.19587843],\n",
       "       [0.23106543, 0.76893457],\n",
       "       [0.65730785, 0.34269215],\n",
       "       [0.0630246 , 0.9369754 ],\n",
       "       [0.95061189, 0.04938811],\n",
       "       [0.9562282 , 0.0437718 ],\n",
       "       [0.52549121, 0.47450879],\n",
       "       [0.64580063, 0.35419937],\n",
       "       [0.59335559, 0.40664441],\n",
       "       [0.05656581, 0.94343419],\n",
       "       [0.1392953 , 0.8607047 ],\n",
       "       [0.97827775, 0.02172225],\n",
       "       [0.83217919, 0.16782081],\n",
       "       [0.79183099, 0.20816901],\n",
       "       [0.6316974 , 0.3683026 ],\n",
       "       [0.69974863, 0.30025137]])"
      ]
     },
     "execution_count": 41,
     "metadata": {},
     "output_type": "execute_result"
    }
   ],
   "source": [
    "logistic.predict_proba(X_test_scaled)"
   ]
  }
 ],
 "metadata": {
  "kernelspec": {
   "display_name": "base",
   "language": "python",
   "name": "python3"
  },
  "language_info": {
   "codemirror_mode": {
    "name": "ipython",
    "version": 3
   },
   "file_extension": ".py",
   "mimetype": "text/x-python",
   "name": "python",
   "nbconvert_exporter": "python",
   "pygments_lexer": "ipython3",
   "version": "3.12.4"
  }
 },
 "nbformat": 4,
 "nbformat_minor": 2
}
