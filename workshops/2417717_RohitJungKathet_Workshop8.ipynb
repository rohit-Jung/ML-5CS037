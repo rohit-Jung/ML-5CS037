{
 "cells": [
  {
   "cell_type": "code",
   "execution_count": 2,
   "metadata": {},
   "outputs": [],
   "source": [
    "import numpy as np\n",
    "from sklearn.tree import DecisionTreeClassifier\n",
    "from sklearn.model_selection import train_test_split\n",
    "from sklearn.ensemble import RandomForestClassifier\n",
    "from sklearn.datasets import load_wine\n",
    "from sklearn.metrics import accuracy_score, f1_score"
   ]
  },
  {
   "cell_type": "code",
   "execution_count": 3,
   "metadata": {},
   "outputs": [],
   "source": [
    "data = load_wine()\n",
    "\n",
    "X = data.data\n",
    "y = data.target\n",
    "\n",
    "# Split into training and test sets (80% training, 20% test)\n",
    "X_train, X_test, y_train, y_test = train_test_split(X, y, test_size=0.2, random_state=42)"
   ]
  },
  {
   "cell_type": "code",
   "execution_count": 4,
   "metadata": {},
   "outputs": [
    {
     "name": "stdout",
     "output_type": "stream",
     "text": [
      "Decision Tree F1 score: 0.9440\n"
     ]
    }
   ],
   "source": [
    "decision = DecisionTreeClassifier(random_state=42)\n",
    "decision.fit(X_train, y_train)\n",
    "\n",
    "predicted_values = decision.predict(X_test)\n",
    "\n",
    "# Calculate accuracy\n",
    "f1_score_decision = f1_score(y_test, predicted_values, average='weighted')\n",
    "print(f\"Decision Tree F1 score: {f1_score_decision:.4f}\")"
   ]
  },
  {
   "cell_type": "code",
   "execution_count": 5,
   "metadata": {},
   "outputs": [
    {
     "name": "stdout",
     "output_type": "stream",
     "text": [
      "Random Forest Tree F1 score: 1.0000\n"
     ]
    }
   ],
   "source": [
    "random_forest = RandomForestClassifier(random_state=42)\n",
    "random_forest.fit(X_train, y_train)\n",
    "\n",
    "predicted_values = random_forest.predict(X_test)\n",
    "\n",
    "# Calculate accuracy\n",
    "f1_score_random = f1_score(y_test, predicted_values, average='weighted')\n",
    "print(f\"Random Forest Tree F1 score: {f1_score_random:.4f}\")"
   ]
  },
  {
   "cell_type": "code",
   "execution_count": null,
   "metadata": {},
   "outputs": [
    {
     "name": "stdout",
     "output_type": "stream",
     "text": [
      "Fitting 5 folds for each of 36 candidates, totalling 180 fits\n",
      "Best parameters {'max_depth': None, 'min_samples_split': 2, 'n_estimators': 100}\n",
      "Best F1 score 0.98\n"
     ]
    }
   ],
   "source": [
    "from sklearn.model_selection import GridSearchCV\n",
    "\n",
    "# Defining hyper parameters grid\n",
    "hyperparameter_grid = {\n",
    "    \"n_estimators\": [50, 100, 200],\n",
    "    \"max_depth\": [None, 10, 20, 40],\n",
    "    \"min_samples_split\": [2, 5, 10],\n",
    "}\n",
    "\n",
    "grid_search = GridSearchCV(\n",
    "    estimator=random_forest,\n",
    "    param_grid=hyperparameter_grid,\n",
    "    cv=5,       # number of folds\n",
    "    n_jobs=-1,  # use all the available GPU for parallelsim [-1]\n",
    "    verbose=3,  # details of message displayed\n",
    "    scoring=\"f1_weighted\",\n",
    ")\n",
    "\n",
    "grid_search.fit(X_train, y_train)\n",
    "\n",
    "best_params = grid_search.best_params_\n",
    "best_score = grid_search.best_score_\n",
    "\n",
    "print(f\"Best parameters {best_params}\")\n",
    "print(f\"Best F1 score {best_score:.2f}\")"
   ]
  },
  {
   "cell_type": "code",
   "execution_count": 10,
   "metadata": {},
   "outputs": [
    {
     "name": "stdout",
     "output_type": "stream",
     "text": [
      "The mean squared error of decision tree 0.17\n",
      "The mean squared error of random forest 0.06\n"
     ]
    }
   ],
   "source": [
    "# treating it as regression task \n",
    "from sklearn.tree import DecisionTreeRegressor\n",
    "from sklearn.ensemble import RandomForestRegressor\n",
    "from sklearn.metrics import mean_squared_error\n",
    "\n",
    "dt_regressor = DecisionTreeRegressor(random_state=42)\n",
    "rf_regressor = RandomForestRegressor(random_state=42)\n",
    "\n",
    "dt_regressor.fit(X_train, y_train)\n",
    "rf_regressor.fit(X_train, y_train)\n",
    "\n",
    "predicted_dt = dt_regressor.predict(X_test)\n",
    "predicted_rf = rf_regressor.predict(X_test)\n",
    "\n",
    "dt_mse = mean_squared_error(y_test, predicted_dt)\n",
    "rf_mse = mean_squared_error(y_test, predicted_rf)\n",
    "\n",
    "print(f\"The mean squared error of decision tree {dt_mse:.2f}\")\n",
    "print(f\"The mean squared error of random forest {rf_mse:.2f}\")"
   ]
  },
  {
   "cell_type": "code",
   "execution_count": 13,
   "metadata": {},
   "outputs": [
    {
     "name": "stdout",
     "output_type": "stream",
     "text": [
      "Fitting 5 folds for each of 100 candidates, totalling 500 fits\n",
      "Best params : {'max_depth': 10, 'min_samples_leaf': 1, 'min_samples_split': 5, 'n_estimators': 167}\n",
      "Best Negative MSE score : -0.047\n"
     ]
    }
   ],
   "source": [
    "from sklearn.model_selection import RandomizedSearchCV\n",
    "from scipy.stats import randint\n",
    "\n",
    "param_grid = {\n",
    "    \"n_estimators\": randint(50, 200),\n",
    "    \"max_depth\": [None, 10, 20, 30],\n",
    "    \"min_samples_split\": randint(2, 10),\n",
    "    \"min_samples_leaf\": randint(1, 10),\n",
    "}\n",
    "\n",
    "random_search = RandomizedSearchCV(\n",
    "    estimator=rf_regressor,\n",
    "    param_distributions=param_grid,\n",
    "    n_jobs=-1, \n",
    "    cv=5,\n",
    "    n_iter=100,\n",
    "    scoring=\"neg_mean_squared_error\",\n",
    "    verbose=3,\n",
    ")\n",
    "\n",
    "random_search.fit(X_train, y_train)\n",
    "\n",
    "best_score = random_search.best_score_\n",
    "best_params = random_search.best_params_\n",
    "\n",
    "print(f\"Best params : {best_params}\")\n",
    "print(f\"Best Negative MSE score : {best_score:.3f}\")\n"
   ]
  }
 ],
 "metadata": {
  "kernelspec": {
   "display_name": "base",
   "language": "python",
   "name": "python3"
  },
  "language_info": {
   "codemirror_mode": {
    "name": "ipython",
    "version": 3
   },
   "file_extension": ".py",
   "mimetype": "text/x-python",
   "name": "python",
   "nbconvert_exporter": "python",
   "pygments_lexer": "ipython3",
   "version": "3.12.4"
  }
 },
 "nbformat": 4,
 "nbformat_minor": 2
}
