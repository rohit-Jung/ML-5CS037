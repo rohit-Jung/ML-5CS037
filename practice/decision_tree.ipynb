{
  "cells": [
    {
      "cell_type": "markdown",
      "metadata": {
        "id": "QI2E65-d5ndT"
      },
      "source": [
        "# Custom vs. Scikit learn Built Decision Tree"
      ]
    },
    {
      "cell_type": "markdown",
      "metadata": {
        "id": "7uIyiQsd53sk"
      },
      "source": [
        "## Buld a Custom Decision Tree"
      ]
    },
    {
      "cell_type": "code",
      "execution_count": 1,
      "metadata": {
        "id": "9fW-OvrOr_1b"
      },
      "outputs": [],
      "source": [
        "import numpy as np\n",
        "\n",
        "class CustomDecisionTree:\n",
        "    def __init__(self, max_depth=None):\n",
        "        \"\"\"\n",
        "        Initializes the decision tree with the specified maximum depth.\n",
        "\n",
        "        Parameters:\n",
        "        max_depth (int, optional): The maximum depth of the tree. If None, the tree is expanded until all leaves are pure or contain fewer than the minimum samples required to split.\n",
        "        \"\"\"\n",
        "        self.max_depth = max_depth\n",
        "        self.tree = None\n",
        "\n",
        "    def fit(self, X, y):\n",
        "        \"\"\"\n",
        "        Trains the decision tree model using the provided training data.\n",
        "\n",
        "        Parameters:\n",
        "        X (array-like): Feature matrix (n_samples, n_features) for training the model.\n",
        "        y (array-like): Target labels (n_samples,) for training the model.\n",
        "        \"\"\"\n",
        "        self.tree = self._build_tree(X, y)\n",
        "\n",
        "    def _build_tree(self, X, y, depth=0):\n",
        "        \"\"\"\n",
        "        Recursively builds the decision tree by splitting the data based on the best feature and threshold.\n",
        "\n",
        "        Parameters:\n",
        "        X (array-like): Feature matrix (n_samples, n_features) for splitting.\n",
        "        y (array-like): Target labels (n_samples,) for splitting.\n",
        "        depth (int, optional): Current depth of the tree during recursion.\n",
        "\n",
        "        Returns:\n",
        "        dict: A dictionary representing the structure of the tree, containing the best feature index, threshold, and recursive tree nodes.\n",
        "        \"\"\"\n",
        "        num_samples, num_features = X.shape\n",
        "        unique_classes = np.unique(y)\n",
        "\n",
        "        # Stopping conditions: pure node or reached max depth\n",
        "        if len(unique_classes) == 1:\n",
        "            return {'class': unique_classes[0]}\n",
        "        if num_samples == 0 or (self.max_depth and depth >= self.max_depth):\n",
        "            return {'class': np.bincount(y).argmax()}\n",
        "\n",
        "        # Find the best split based on Information Gain (using Entropy)\n",
        "        best_info_gain = -float('inf')\n",
        "        best_split = None\n",
        "        for feature_idx in range(num_features):\n",
        "            thresholds = np.unique(X[:, feature_idx])\n",
        "            for threshold in thresholds:\n",
        "                left_mask = X[:, feature_idx] <= threshold\n",
        "                right_mask = ~left_mask\n",
        "                left_y = y[left_mask]\n",
        "                right_y = y[right_mask]\n",
        "\n",
        "                info_gain = self._information_gain(y, left_y, right_y)\n",
        "\n",
        "                if info_gain > best_info_gain:\n",
        "                    best_info_gain = info_gain\n",
        "                    best_split = {\n",
        "                        'feature_idx': feature_idx,\n",
        "                        'threshold': threshold,\n",
        "                        'left_y': left_y,\n",
        "                        'right_y': right_y,\n",
        "                    }\n",
        "\n",
        "        if best_split is None:\n",
        "            return {'class': np.bincount(y).argmax()}\n",
        "\n",
        "        # Recursively build the left and right subtrees\n",
        "        left_tree = self._build_tree(X[best_split['left_y']], best_split['left_y'], depth + 1)\n",
        "        right_tree = self._build_tree(X[best_split['right_y']], best_split['right_y'], depth + 1)\n",
        "\n",
        "        return {'feature_idx': best_split['feature_idx'], 'threshold': best_split['threshold'],\n",
        "                'left_tree': left_tree, 'right_tree': right_tree}\n",
        "\n",
        "    def _information_gain(self, parent, left, right):\n",
        "        \"\"\"\n",
        "        Computes the Information Gain between the parent node and the left/right child nodes.\n",
        "\n",
        "        Parameters:\n",
        "        parent (array-like): The labels of the parent node.\n",
        "        left (array-like): The labels of the left child node.\n",
        "        right (array-like): The labels of the right child node.\n",
        "\n",
        "        Returns:\n",
        "        float: The Information Gain of the split.\n",
        "        \"\"\"\n",
        "        parent_entropy = self._entropy(parent)\n",
        "        left_entropy = self._entropy(left)\n",
        "        right_entropy = self._entropy(right)\n",
        "\n",
        "        # Information Gain = Entropy(parent) - (weighted average of left and right entropies)\n",
        "        weighted_avg_entropy = (len(left) / len(parent)) * left_entropy + (len(right) / len(parent)) * right_entropy\n",
        "        return parent_entropy - weighted_avg_entropy\n",
        "\n",
        "    def _entropy(self, y):\n",
        "        \"\"\"\n",
        "        Computes the entropy of a set of labels.\n",
        "\n",
        "        Parameters:\n",
        "        y (array-like): The labels for which entropy is calculated.\n",
        "\n",
        "        Returns:\n",
        "        float: The entropy of the labels.\n",
        "        \"\"\"\n",
        "        # Calculate the probability of each class\n",
        "        class_probs = np.bincount(y) / len(y)\n",
        "        # Compute the entropy using the formula: -sum(p * log2(p))\n",
        "        return -np.sum(class_probs * np.log2(class_probs + 1e-9))  # Added small epsilon to avoid log(0)\n",
        "\n",
        "    def predict(self, X):\n",
        "        \"\"\"\n",
        "        Predicts the target labels for the given test data based on the trained decision tree.\n",
        "\n",
        "        Parameters:\n",
        "        X (array-like): Feature matrix (n_samples, n_features) for prediction.\n",
        "\n",
        "        Returns:\n",
        "        list: A list of predicted target labels (n_samples,).\n",
        "        \"\"\"\n",
        "        return [self._predict_single(x, self.tree) for x in X]\n",
        "\n",
        "    def _predict_single(self, x, tree):\n",
        "        \"\"\"\n",
        "        Recursively predicts the target label for a single sample by traversing the tree.\n",
        "\n",
        "        Parameters:\n",
        "        x (array-like): A single feature vector for prediction.\n",
        "        tree (dict): The current subtree or node to evaluate.\n",
        "\n",
        "        Returns:\n",
        "        int: The predicted class label for the sample.\n",
        "        \"\"\"\n",
        "        if 'class' in tree:\n",
        "            return tree['class']\n",
        "\n",
        "        feature_val = x[tree['feature_idx']]\n",
        "        if feature_val <= tree['threshold']:\n",
        "            return self._predict_single(x, tree['left_tree'])\n",
        "        else:\n",
        "            return self._predict_single(x, tree['right_tree'])\n"
      ]
    },
    {
      "cell_type": "markdown",
      "metadata": {
        "id": "XU15GZcWsJDM"
      },
      "source": [
        "## Necessary Imports"
      ]
    },
    {
      "cell_type": "code",
      "execution_count": 2,
      "metadata": {
        "id": "-g3DdwQksGsO"
      },
      "outputs": [],
      "source": [
        "import numpy as np\n",
        "import pandas as pd\n",
        "from sklearn.datasets import load_iris, load_wine\n",
        "from sklearn.model_selection import train_test_split\n",
        "from sklearn.tree import DecisionTreeClassifier\n",
        "from sklearn.metrics import accuracy_score"
      ]
    },
    {
      "cell_type": "markdown",
      "metadata": {
        "id": "UxZTUicosMvN"
      },
      "source": [
        "## Load and Split the Iris Dataset"
      ]
    },
    {
      "cell_type": "code",
      "execution_count": 3,
      "metadata": {
        "id": "ThUBcB5xsA8E"
      },
      "outputs": [],
      "source": [
        "# Load the Iris dataset\n",
        "data = load_iris()\n",
        "X = data.data\n",
        "y = data.target\n",
        "\n",
        "# Split into training and test sets (80% training, 20% test)\n",
        "X_train, X_test, y_train, y_test = train_test_split(X, y, test_size=0.2, random_state=42)\n"
      ]
    },
    {
      "cell_type": "markdown",
      "metadata": {
        "id": "4dGanBWusT01"
      },
      "source": [
        "## Train and Evaluate the Custom Decision Tree"
      ]
    },
    {
      "cell_type": "code",
      "execution_count": 4,
      "metadata": {
        "colab": {
          "base_uri": "https://localhost:8080/"
        },
        "id": "dKs5ce4msXYk",
        "outputId": "af85ded3-d3dd-4a2a-dcbf-74789687c1e5"
      },
      "outputs": [
        {
          "name": "stdout",
          "output_type": "stream",
          "text": [
            "Custom Decision Tree Accuracy: 0.8000\n"
          ]
        }
      ],
      "source": [
        "# Train the custom decision tree\n",
        "custom_tree = CustomDecisionTree(max_depth=3)\n",
        "custom_tree.fit(X_train, y_train)\n",
        "\n",
        "# Predict on the test set\n",
        "y_pred_custom = custom_tree.predict(X_test)\n",
        "\n",
        "# Calculate accuracy\n",
        "accuracy_custom = accuracy_score(y_test, y_pred_custom)\n",
        "print(f\"Custom Decision Tree Accuracy: {accuracy_custom:.4f}\")\n"
      ]
    },
    {
      "cell_type": "markdown",
      "metadata": {
        "id": "DETmEUtuseDX"
      },
      "source": [
        "## Train and Evaluate the scikit-learn Decision Tree"
      ]
    },
    {
      "cell_type": "code",
      "execution_count": 5,
      "metadata": {
        "colab": {
          "base_uri": "https://localhost:8080/"
        },
        "id": "d8wPUUMusYoR",
        "outputId": "36b0e760-29fe-4755-b11d-8d288e4b4e6e"
      },
      "outputs": [
        {
          "name": "stdout",
          "output_type": "stream",
          "text": [
            "Scikit-learn Decision Tree Accuracy: 1.0000\n"
          ]
        }
      ],
      "source": [
        "# Train the Scikit-learn decision tree\n",
        "sklearn_tree = DecisionTreeClassifier(max_depth=3, random_state=42)\n",
        "sklearn_tree.fit(X_train, y_train)\n",
        "\n",
        "# Predict on the test set\n",
        "y_pred_sklearn = sklearn_tree.predict(X_test)\n",
        "\n",
        "# Calculate accuracy\n",
        "accuracy_sklearn = accuracy_score(y_test, y_pred_sklearn)\n",
        "print(f\"Scikit-learn Decision Tree Accuracy: {accuracy_sklearn:.4f}\")\n"
      ]
    },
    {
      "cell_type": "markdown",
      "metadata": {
        "id": "Dx8YHB4uspeD"
      },
      "source": [
        "## Result Comparision"
      ]
    },
    {
      "cell_type": "code",
      "execution_count": 6,
      "metadata": {
        "colab": {
          "base_uri": "https://localhost:8080/"
        },
        "id": "yN97p23DsngA",
        "outputId": "f7546467-b9cc-4a16-9a39-e8b396c20746"
      },
      "outputs": [
        {
          "name": "stdout",
          "output_type": "stream",
          "text": [
            "Accuracy Comparison:\n",
            "Custom Decision Tree: 0.8000\n",
            "Scikit-learn Decision Tree: 1.0000\n"
          ]
        }
      ],
      "source": [
        "print(f\"Accuracy Comparison:\")\n",
        "print(f\"Custom Decision Tree: {accuracy_custom:.4f}\")\n",
        "print(f\"Scikit-learn Decision Tree: {accuracy_sklearn:.4f}\")\n"
      ]
    },
    {
      "cell_type": "code",
      "execution_count": 7,
      "metadata": {},
      "outputs": [],
      "source": [
        "wine_data = load_wine()"
      ]
    },
    {
      "cell_type": "code",
      "execution_count": 8,
      "metadata": {
        "id": "-ryh0U9OssqQ"
      },
      "outputs": [],
      "source": [
        "X = wine_data.data\n",
        "y = wine_data.target\n",
        "\n",
        "X_train, X_test, y_train, y_test = train_test_split(X, y, test_size=0.25, random_state=45)"
      ]
    },
    {
      "cell_type": "code",
      "execution_count": 9,
      "metadata": {},
      "outputs": [
        {
          "name": "stdout",
          "output_type": "stream",
          "text": [
            "The accuracy score for custom decision tree is 0.6666666666666666\n"
          ]
        }
      ],
      "source": [
        "wine_custom_tree = CustomDecisionTree(max_depth=8)\n",
        "wine_custom_tree.fit(X_train, y_train)\n",
        "\n",
        "y_predictions = wine_custom_tree.predict(X_test)\n",
        "\n",
        "accuracy_wine_custom = accuracy_score(y_test, y_predictions)\n",
        "print(f\"The accuracy score for custom decision tree is {accuracy_wine_custom}\")"
      ]
    },
    {
      "cell_type": "code",
      "execution_count": 10,
      "metadata": {},
      "outputs": [
        {
          "name": "stdout",
          "output_type": "stream",
          "text": [
            "The accuracy score for skLearn decision tree is 0.6666666666666666\n"
          ]
        }
      ],
      "source": [
        "wine_sklearn = DecisionTreeClassifier(max_depth=2)\n",
        "wine_sklearn.fit(X_train, y_train)\n",
        "\n",
        "predictions_sklearn = wine_sklearn.predict(X_test)\n",
        "\n",
        "accuracy_wine_sklearn = accuracy_score(y_test, predictions_sklearn)\n",
        "print(f\"The accuracy score for skLearn decision tree is {accuracy_wine_custom}\")"
      ]
    }
  ],
  "metadata": {
    "colab": {
      "provenance": []
    },
    "kernelspec": {
      "display_name": "base",
      "language": "python",
      "name": "python3"
    },
    "language_info": {
      "codemirror_mode": {
        "name": "ipython",
        "version": 3
      },
      "file_extension": ".py",
      "mimetype": "text/x-python",
      "name": "python",
      "nbconvert_exporter": "python",
      "pygments_lexer": "ipython3",
      "version": "3.12.4"
    }
  },
  "nbformat": 4,
  "nbformat_minor": 0
}
