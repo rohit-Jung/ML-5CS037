{
  "cells": [
    {
      "cell_type": "code",
      "execution_count": 1,
      "metadata": {},
      "outputs": [],
      "source": [
        "# KNN practice with titanic dataset\n",
        "import numpy as np\n",
        "import pandas as pd"
      ]
    },
    {
      "cell_type": "code",
      "execution_count": 2,
      "metadata": {},
      "outputs": [
        {
          "data": {
            "text/html": [
              "<div>\n",
              "<style scoped>\n",
              "    .dataframe tbody tr th:only-of-type {\n",
              "        vertical-align: middle;\n",
              "    }\n",
              "\n",
              "    .dataframe tbody tr th {\n",
              "        vertical-align: top;\n",
              "    }\n",
              "\n",
              "    .dataframe thead th {\n",
              "        text-align: right;\n",
              "    }\n",
              "</style>\n",
              "<table border=\"1\" class=\"dataframe\">\n",
              "  <thead>\n",
              "    <tr style=\"text-align: right;\">\n",
              "      <th></th>\n",
              "      <th>PassengerId</th>\n",
              "      <th>Survived</th>\n",
              "      <th>Pclass</th>\n",
              "      <th>Name</th>\n",
              "      <th>Sex</th>\n",
              "      <th>Age</th>\n",
              "      <th>SibSp</th>\n",
              "      <th>Parch</th>\n",
              "      <th>Ticket</th>\n",
              "      <th>Fare</th>\n",
              "      <th>Cabin</th>\n",
              "      <th>Embarked</th>\n",
              "    </tr>\n",
              "  </thead>\n",
              "  <tbody>\n",
              "    <tr>\n",
              "      <th>0</th>\n",
              "      <td>1</td>\n",
              "      <td>0</td>\n",
              "      <td>3</td>\n",
              "      <td>Braund, Mr. Owen Harris</td>\n",
              "      <td>male</td>\n",
              "      <td>22.0</td>\n",
              "      <td>1</td>\n",
              "      <td>0</td>\n",
              "      <td>A/5 21171</td>\n",
              "      <td>7.2500</td>\n",
              "      <td>NaN</td>\n",
              "      <td>S</td>\n",
              "    </tr>\n",
              "    <tr>\n",
              "      <th>1</th>\n",
              "      <td>2</td>\n",
              "      <td>1</td>\n",
              "      <td>1</td>\n",
              "      <td>Cumings, Mrs. John Bradley (Florence Briggs Th...</td>\n",
              "      <td>female</td>\n",
              "      <td>38.0</td>\n",
              "      <td>1</td>\n",
              "      <td>0</td>\n",
              "      <td>PC 17599</td>\n",
              "      <td>71.2833</td>\n",
              "      <td>C85</td>\n",
              "      <td>C</td>\n",
              "    </tr>\n",
              "    <tr>\n",
              "      <th>2</th>\n",
              "      <td>3</td>\n",
              "      <td>1</td>\n",
              "      <td>3</td>\n",
              "      <td>Heikkinen, Miss. Laina</td>\n",
              "      <td>female</td>\n",
              "      <td>26.0</td>\n",
              "      <td>0</td>\n",
              "      <td>0</td>\n",
              "      <td>STON/O2. 3101282</td>\n",
              "      <td>7.9250</td>\n",
              "      <td>NaN</td>\n",
              "      <td>S</td>\n",
              "    </tr>\n",
              "    <tr>\n",
              "      <th>3</th>\n",
              "      <td>4</td>\n",
              "      <td>1</td>\n",
              "      <td>1</td>\n",
              "      <td>Futrelle, Mrs. Jacques Heath (Lily May Peel)</td>\n",
              "      <td>female</td>\n",
              "      <td>35.0</td>\n",
              "      <td>1</td>\n",
              "      <td>0</td>\n",
              "      <td>113803</td>\n",
              "      <td>53.1000</td>\n",
              "      <td>C123</td>\n",
              "      <td>S</td>\n",
              "    </tr>\n",
              "    <tr>\n",
              "      <th>4</th>\n",
              "      <td>5</td>\n",
              "      <td>0</td>\n",
              "      <td>3</td>\n",
              "      <td>Allen, Mr. William Henry</td>\n",
              "      <td>male</td>\n",
              "      <td>35.0</td>\n",
              "      <td>0</td>\n",
              "      <td>0</td>\n",
              "      <td>373450</td>\n",
              "      <td>8.0500</td>\n",
              "      <td>NaN</td>\n",
              "      <td>S</td>\n",
              "    </tr>\n",
              "  </tbody>\n",
              "</table>\n",
              "</div>"
            ],
            "text/plain": [
              "   PassengerId  Survived  Pclass  \\\n",
              "0            1         0       3   \n",
              "1            2         1       1   \n",
              "2            3         1       3   \n",
              "3            4         1       1   \n",
              "4            5         0       3   \n",
              "\n",
              "                                                Name     Sex   Age  SibSp  \\\n",
              "0                            Braund, Mr. Owen Harris    male  22.0      1   \n",
              "1  Cumings, Mrs. John Bradley (Florence Briggs Th...  female  38.0      1   \n",
              "2                             Heikkinen, Miss. Laina  female  26.0      0   \n",
              "3       Futrelle, Mrs. Jacques Heath (Lily May Peel)  female  35.0      1   \n",
              "4                           Allen, Mr. William Henry    male  35.0      0   \n",
              "\n",
              "   Parch            Ticket     Fare Cabin Embarked  \n",
              "0      0         A/5 21171   7.2500   NaN        S  \n",
              "1      0          PC 17599  71.2833   C85        C  \n",
              "2      0  STON/O2. 3101282   7.9250   NaN        S  \n",
              "3      0            113803  53.1000  C123        S  \n",
              "4      0            373450   8.0500   NaN        S  "
            ]
          },
          "execution_count": 2,
          "metadata": {},
          "output_type": "execute_result"
        }
      ],
      "source": [
        "data = pd.read_csv('../datasets/Titanic-Dataset.csv')\n",
        "data.head()"
      ]
    },
    {
      "cell_type": "code",
      "execution_count": 3,
      "metadata": {},
      "outputs": [
        {
          "data": {
            "text/plain": [
              "PassengerId      int64\n",
              "Survived         int64\n",
              "Pclass           int64\n",
              "Age            float64\n",
              "SibSp            int64\n",
              "Parch            int64\n",
              "Fare           float64\n",
              "dtype: object"
            ]
          },
          "execution_count": 3,
          "metadata": {},
          "output_type": "execute_result"
        }
      ],
      "source": [
        "# select the object dtype columns \n",
        "categorical_cols = data.select_dtypes(include=['object']).columns\n",
        "# drop except survived\n",
        "data = data.drop(columns=[col for col in categorical_cols if col != 'Survived'])\n",
        "data.dtypes"
      ]
    },
    {
      "cell_type": "code",
      "execution_count": 4,
      "metadata": {},
      "outputs": [],
      "source": [
        "# Drop the missing data using a condition \n",
        "missing_info = data.isnull().sum() / len(data) * 100\n",
        "\n",
        "for col in data.columns:\n",
        "  if(missing_info[col] > 10):\n",
        "    data.fillna({ col : data[col].mean()}, inplace=True)\n",
        "  else:\n",
        "    data.dropna(subset=[col], inplace=True)"
      ]
    },
    {
      "cell_type": "code",
      "execution_count": 5,
      "metadata": {},
      "outputs": [
        {
          "data": {
            "text/plain": [
              "PassengerId    0\n",
              "Survived       0\n",
              "Pclass         0\n",
              "Age            0\n",
              "SibSp          0\n",
              "Parch          0\n",
              "Fare           0\n",
              "dtype: int64"
            ]
          },
          "execution_count": 5,
          "metadata": {},
          "output_type": "execute_result"
        }
      ],
      "source": [
        "data.isnull().sum()"
      ]
    },
    {
      "cell_type": "code",
      "execution_count": 8,
      "metadata": {},
      "outputs": [],
      "source": [
        "def train_test_split(X: np.ndarray, y: np.ndarray, test_size=0.3, random_seed=42):\n",
        "    \"\"\"\n",
        "    Splits dataset into train and test sets.\n",
        "    Arguments:\n",
        "      X : np.ndarray\n",
        "        Feature matrix.\n",
        "      y : np.ndarray\n",
        "        Target array.\n",
        "      test_size : float\n",
        "        Proportion of the dataset to include in the test split (0 < test_size < 1).\n",
        "      random_seed : int\n",
        "        Seed for reproducibility.\n",
        "    Returns:\n",
        "      X_train, X_test, y_train, y_test : np.ndarray\n",
        "        Training and testing splits of features and target.\n",
        "    \"\"\"\n",
        "    np.random.seed(random_seed)\n",
        "    indices = np.arange(X.shape[0])\n",
        "    np.random.shuffle(indices)\n",
        "    test_split_size = int(len(X) * test_size)\n",
        "    test_indices = indices[:test_split_size]\n",
        "    train_indices = indices[test_split_size:]\n",
        "    X_train, X_test = X[train_indices], X[test_indices]\n",
        "    y_train, y_test = y[train_indices], y[test_indices]\n",
        "    return X_train, X_test, y_train, y_test"
      ]
    },
    {
      "cell_type": "code",
      "execution_count": 11,
      "metadata": {},
      "outputs": [
        {
          "name": "stdout",
          "output_type": "stream",
          "text": [
            "Shape of X_train: (624, 6)\n",
            "Shape of X_test: (267, 6)\n",
            "Shape of y_train: (624,)\n",
            "Shape of y_test: (267,)\n"
          ]
        }
      ],
      "source": [
        "X = data.drop(columns='Survived').values\n",
        "y = data['Survived'].values\n",
        "X_train, X_test, y_train, y_test = train_test_split(X, y)\n",
        "\n",
        "print(\"Shape of X_train:\", X_train.shape)\n",
        "print(\"Shape of X_test:\", X_test.shape)\n",
        "print(\"Shape of y_train:\", y_train.shape)\n",
        "print(\"Shape of y_test:\", y_test.shape)"
      ]
    },
    {
      "cell_type": "code",
      "execution_count": 18,
      "metadata": {},
      "outputs": [],
      "source": [
        "def euclidean_distance(point1: np.ndarray, point2: np.ndarray) -> float:\n",
        "    \"\"\"\n",
        "    Calculate the Euclidean distance between two points in n-dimensional space.\n",
        "    Arguments:\n",
        "      point1 : np.ndarray\n",
        "        The first point as a numpy array.\n",
        "      point2 : np.ndarray\n",
        "        The second point as a numpy array.\n",
        "    Returns:\n",
        "      float\n",
        "        The Euclidean distance between the two points.\n",
        "    Raises:\n",
        "      ValueError: If the input points do not have the same dimensionality.\n",
        "    \"\"\"\n",
        "    if point1.shape != point2.shape:\n",
        "        raise ValueError(\n",
        "            \"The dimensions of two points must be same to calculate euclidean distance\"\n",
        "        )\n",
        "    return np.sqrt(np.sum((point2 - point1) ** 2))"
      ]
    },
    {
      "cell_type": "code",
      "execution_count": 20,
      "metadata": {},
      "outputs": [
        {
          "name": "stdout",
          "output_type": "stream",
          "text": [
            "Test Passed Successfully\n"
          ]
        }
      ],
      "source": [
        "# Test case for function\n",
        "try:\n",
        "  point1 = np.array([3, 4])\n",
        "  point2 = np.array([0, 0])\n",
        "  result = euclidean_distance(point1, point2)\n",
        "  expected_result = 5.0\n",
        "  assert np.isclose(result, expected_result), f\"Expected {expected_result}, got {result}\"\n",
        "  print(\"Test Passed Successfully\")\n",
        "except ValueError as ve:\n",
        "  print(f\"ValueError: {ve}\")\n",
        "except AssertionError as ae:\n",
        "  print(f\"AssertionError: {ae}\")\n",
        "except Exception as e:\n",
        "  print(f\"Error occured: {e}\")"
      ]
    },
    {
      "cell_type": "code",
      "execution_count": 22,
      "metadata": {},
      "outputs": [],
      "source": [
        "# Function for KNN prediction for a single query\n",
        "def knn_single_predict(\n",
        "    query: np.ndarray, X_train: np.ndarray, y_train: np.ndarray, k=3\n",
        ") -> int:\n",
        "    \"\"\"\n",
        "    Predict the class label for a single query using the K-nearest neighbors algorithm.\n",
        "    Arguments:\n",
        "      query : np.ndarray\n",
        "        The query point for which the prediction is to be made.\n",
        "      X_train : np.ndarray\n",
        "        The training feature matrix.\n",
        "      y_train : np.ndarray\n",
        "        The training labels.\n",
        "      k : int, optional\n",
        "        The number of nearest neighbors to consider (default is 3).\n",
        "    Returns:\n",
        "      int\n",
        "        The predicted class label for the query.\n",
        "    \"\"\"\n",
        "    distances = [euclidean_distance(query, x) for x in X_train]\n",
        "    sorted_indices = np.argsort(distances)\n",
        "    nearest_indices = sorted_indices[:k]\n",
        "    nearest_labels = y_train[nearest_indices]\n",
        "    prediction = np.bincount(nearest_labels).argmax()\n",
        "    return prediction"
      ]
    },
    {
      "cell_type": "code",
      "execution_count": 23,
      "metadata": {},
      "outputs": [],
      "source": [
        "def knn_predict(\n",
        "    X_test: np.ndarray, X_train: np.ndarray, y_train: np.ndarray, k=3\n",
        ") -> np.ndarray:\n",
        "    \"\"\"\n",
        "    Predict the class labels for all test samples using the K-nearest neighbors algorithm.\n",
        "    Arguments:\n",
        "      X_test : np.ndarray\n",
        "        The test feature matrix.\n",
        "      X_train : np.ndarray\n",
        "        The training feature matrix.\n",
        "      y_train : np.ndarray\n",
        "        The training labels.\n",
        "      k : int, optional\n",
        "        The number of nearest neighbors to consider (default is 3).\n",
        "    Returns:\n",
        "      np.ndarray\n",
        "        An array of predicted class labels for the test samples.\n",
        "    \"\"\"\n",
        "\n",
        "    predictions = [knn_single_predict(x, X_train, y_train) for x in X_test]\n",
        "    return np.array(predictions)"
      ]
    },
    {
      "cell_type": "code",
      "execution_count": 26,
      "metadata": {},
      "outputs": [
        {
          "name": "stdout",
          "output_type": "stream",
          "text": [
            "Predictions: [0 1 0 0 0]\n",
            "Actual labels: [1 0 0 1 1]\n",
            "Test case passed successfully!\n"
          ]
        }
      ],
      "source": [
        "# Test case for KNN on the Titanic dataset\n",
        "try:\n",
        "# Define the test set for the test case\n",
        "  X_test_sample = X_test[:5] \n",
        "  y_test_sample = y_test[:5] \n",
        "  predictions = knn_predict(X_test_sample, X_train, y_train, k=3)\n",
        "  print(\"Predictions:\", predictions)\n",
        "  print(\"Actual labels:\", y_test_sample)\n",
        "  assert predictions.shape == y_test_sample.shape, \"The shape of predictions does not match the shape of the actual labels.\"\n",
        "  print(\"Test case passed successfully!\")\n",
        "except AssertionError as ae:\n",
        "  print(f\"AssertionError: {ae}\")\n",
        "except Exception as e:\n",
        "  print(f\"An unexpected error occurred: {e}\")"
      ]
    },
    {
      "cell_type": "code",
      "execution_count": 27,
      "metadata": {},
      "outputs": [],
      "source": [
        "def compute_accuracy(y_true: np.ndarray, y_predict: np.ndarray) -> float:\n",
        "  \"\"\"\n",
        "  Compute the accuracy of predictions.\n",
        "  Arguments:\n",
        "    y_true : np.ndarray ; The true labels.\n",
        "    y_pred : np.ndarray; The predicted labels.\n",
        "  Returns:\n",
        "    float : The accuracy as a percentage (0 to 100).\n",
        "  \"\"\"\n",
        "  total_correct_predictions = np.sum(y_true == y_predict)\n",
        "  total_predictions = len(y_true)\n",
        "  accuracy = total_correct_predictions / total_predictions * 100\n",
        "  return accuracy"
      ]
    },
    {
      "cell_type": "code",
      "execution_count": 28,
      "metadata": {},
      "outputs": [
        {
          "name": "stdout",
          "output_type": "stream",
          "text": [
            "Accuracy of the KNN model on the test set: 61.80%\n"
          ]
        }
      ],
      "source": [
        "# Perform prediction on the entire test set\n",
        "try:\n",
        "  predictions = knn_predict(X_test, X_train, y_train, k=3)\n",
        "  accuracy = compute_accuracy(y_test, predictions)\n",
        "  print(f\"Accuracy of the KNN model on the test set: {accuracy:.2f}%\")\n",
        "except Exception as e:\n",
        "  print(f\"An unexpected error occurred during prediction or accuracy computation: {e}\")"
      ]
    },
    {
      "cell_type": "code",
      "execution_count": 35,
      "metadata": {},
      "outputs": [],
      "source": [
        "import matplotlib.pyplot as plt\n",
        "%matplotlib inline\n",
        "\n",
        "def experiment_knn_k_values(\n",
        "    X_train: np.ndarray,\n",
        "    y_train: np.ndarray,\n",
        "    X_test: np.ndarray,\n",
        "    y_test: np.ndarray,\n",
        "    k_values: list[int],\n",
        "):\n",
        "    \"\"\"\n",
        "    Run KNN predictions for different values of k and plot the accuracies.\n",
        "    Arguments:\n",
        "      X_train : np.ndarray\n",
        "        The training feature matrix.\n",
        "      y_train : np.ndarray\n",
        "        The training labels.\n",
        "      X_test : np.ndarray\n",
        "        The test feature matrix.\n",
        "      y_test : np.ndarray\n",
        "        The test labels.\n",
        "      k_values : list of int\n",
        "        A list of k values to experiment with.\n",
        "    Returns:\n",
        "      dict\n",
        "        A dictionary with k values as keys and their corresponding accuracies as values.\n",
        "    \"\"\"\n",
        "    accuracies = {}\n",
        "    for k in k_values:\n",
        "        predicted_values = knn_predict(X_test, X_train, y_train, k)\n",
        "\n",
        "        accuracy = compute_accuracy(y_test, predicted_values)\n",
        "        accuracies[k] = accuracy\n",
        "        print(f\"Accuracy for k={k}: {accuracy:.2f}%\")\n",
        "\n",
        "    plt.figure(figsize=(10, 6))\n",
        "    plt.plot(k_values, list(accuracies.values()), marker='o')\n",
        "    plt.title('Accuracy of KNN with Different Values of k')\n",
        "    plt.xlabel('k (Number of Neighbors)')\n",
        "    plt.ylabel(\"Accuracy (%)\")\n",
        "    plt.grid(True)\n",
        "    plt.show()\n",
        "    return accuracies"
      ]
    },
    {
      "cell_type": "code",
      "execution_count": 36,
      "metadata": {},
      "outputs": [
        {
          "name": "stdout",
          "output_type": "stream",
          "text": [
            "Accuracy for k=1: 61.80%\n",
            "Accuracy for k=2: 61.80%\n",
            "Accuracy for k=3: 61.80%\n",
            "Accuracy for k=4: 61.80%\n",
            "Accuracy for k=5: 61.80%\n",
            "Accuracy for k=6: 61.80%\n",
            "Accuracy for k=7: 61.80%\n",
            "Accuracy for k=8: 61.80%\n",
            "Accuracy for k=9: 61.80%\n",
            "Accuracy for k=10: 61.80%\n",
            "Accuracy for k=11: 61.80%\n",
            "Accuracy for k=12: 61.80%\n",
            "Accuracy for k=13: 61.80%\n",
            "Accuracy for k=14: 61.80%\n"
          ]
        },
        {
          "data": {
            "image/png": "[encoded data removed]",
            "text/plain": [
              "<Figure size 1000x600 with 1 Axes>"
            ]
          },
          "metadata": {},
          "output_type": "display_data"
        },
        {
          "name": "stdout",
          "output_type": "stream",
          "text": [
            "Experiment completed. Check the plot for the accuracy trend.\n"
          ]
        }
      ],
      "source": [
        "k_values = range(1, 15) \n",
        "try:\n",
        "    accuracies = experiment_knn_k_values(X_train, y_train, X_test, y_test, k_values)\n",
        "    print(\"Experiment completed. Check the plot for the accuracy trend.\")\n",
        "except Exception as e:\n",
        "    print(f\"An unexpected error occurred during the experiment: {e}\")"
      ]
    }
  ],
  "metadata": {
    "kernelspec": {
      "display_name": "base",
      "language": "python",
      "name": "python3"
    },
    "language_info": {
      "codemirror_mode": {
        "name": "ipython",
        "version": 3
      },
      "file_extension": ".py",
      "mimetype": "text/x-python",
      "name": "python",
      "nbconvert_exporter": "python",
      "pygments_lexer": "ipython3",
      "version": "3.12.1"
    }
  },
  "nbformat": 4,
  "nbformat_minor": 2
}
