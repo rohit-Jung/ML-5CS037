{
 "cells": [
  {
   "cell_type": "code",
   "execution_count": 1,
   "metadata": {},
   "outputs": [],
   "source": [
    "import numpy as np\n",
    "import pandas as pd\n",
    "import matplotlib.pyplot as plt"
   ]
  },
  {
   "cell_type": "code",
   "execution_count": 2,
   "metadata": {},
   "outputs": [],
   "source": [
    "def softmax(z: np.ndarray) -> np.ndarray:\n",
    "  \"\"\"\n",
    "  Compute the softmax of a 2D numpy array along the specified axis.\n",
    "  Parameters:\n",
    "    z (numpy.ndarray): Input array of shape (m, n) where m is the number of samples and n is the number of classes.\n",
    "\n",
    "  Returns:\n",
    "    numpy.ndarray: Softmax probabilities of the same shape as input (m, n), where each row sums to 1 and represents the probability distribution over classes for a sample.\n",
    "\n",
    "  Notes:\n",
    "      - Applies a normalization trick to prevent numerical instability by subtracting the max value in each row before exponentiation.\n",
    "  \"\"\"\n",
    "  exp_z = np.exp(z - np.max(z, axis=1, keepdims=True))\n",
    "  return exp_z / np.sum(exp_z, axis=1, keepdims=True)"
   ]
  },
  {
   "cell_type": "code",
   "execution_count": 3,
   "metadata": {},
   "outputs": [
    {
     "name": "stdout",
     "output_type": "stream",
     "text": [
      "Test 1: All zeros\n",
      "Passed.\n",
      "Test 2: Simple case\n",
      "Passed.\n",
      "Test 3: Large identical values\n",
      "Passed.\n",
      "Test 4: Small identical values\n",
      "Passed.\n",
      "Test 5: Mixed positive and negative\n",
      "Passed.\n",
      "All tests passed for softmax function.\n"
     ]
    }
   ],
   "source": [
    "def test_softmax():\n",
    "  \"\"\"\n",
    "    Perform basic assertion tests on the softmax function to validate its correctness.\n",
    "    Tests:\n",
    "    - Ensure that the output probabilities sum to 1 for each row.\n",
    "    - Ensure non-negative values (all probabilities should be >= 0).\n",
    "    - Test on edge cases (e.g., all zeros, very large or small values).\n",
    "  \"\"\"\n",
    "  # Test input\n",
    "  test_cases = [\n",
    "  (np.array([[0, 0, 0]]), \"All zeros\"),\n",
    "  (np.array([[1, 2, 3]]), \"Simple case\"),\n",
    "  (np.array([[1000, 1000, 1000]]), \"Large identical values\"),\n",
    "  (np.array([[-1000, -1000, -1000]]), \"Small identical values\"),\n",
    "  (np.array([[1, 0, -1]]), \"Mixed positive and negative\")\n",
    "  ]\n",
    "\n",
    "  for i, (z, description) in enumerate(test_cases):\n",
    "    print(f\"Test {i + 1}: {description}\")\n",
    "    result = softmax(z)\n",
    "    # Check that probabilities sum to 1\n",
    "    assert np.allclose(result.sum(axis=1), 1), f\"Failed: Probabilities do not sum to 1 in {description\n",
    "    }\"\n",
    "    # Check non-negativity\n",
    "    assert np.all(result >= 0), f\"Failed: Negative probabilities in {description}\"\n",
    "    print(\"Passed.\")\n",
    "  print(\"All tests passed for softmax function.\")\n",
    "test_softmax()"
   ]
  },
  {
   "cell_type": "code",
   "execution_count": 4,
   "metadata": {},
   "outputs": [],
   "source": [
    "def loss_softmax(y_true, y_pred):\n",
    "    \"\"\"\n",
    "    Compute the cross-entropy loss for a single observation.\n",
    "    Parameters:\n",
    "      y_true (numpy.ndarray): True labels (one-hot encoded) of shape (c,).\n",
    "      y_pred (numpy.ndarray): Predicted probabilities of shape (c,).\n",
    "    Returns:\n",
    "      float: Cross-entropy loss for the observation.\n",
    "    \"\"\"\n",
    "    return -np.sum(y_true * np.log(y_pred + 1e-10))"
   ]
  },
  {
   "cell_type": "code",
   "execution_count": 5,
   "metadata": {},
   "outputs": [
    {
     "name": "stdout",
     "output_type": "stream",
     "text": [
      "All test cases passed!\n"
     ]
    }
   ],
   "source": [
    "def test_loss_softmax():\n",
    "  \"\"\"\n",
    "    Test the loss_softmax function using a known input and output.\n",
    "  \"\"\"\n",
    "  # Test Case 1: Perfect prediction\n",
    "  y_true = np.array([0, 1, 0]) # True label (one-hot encoded)\n",
    "  y_pred = np.array([0.1, 0.8, 0.1]) # Predicted probabilities\n",
    "  expected_loss = -np.log(0.8) # Expected loss for perfect prediction\n",
    "  assert np.isclose(loss_softmax(y_true, y_pred), expected_loss), \"Test Case 1 Failed\"\n",
    "\n",
    "  # Test Case 2: Incorrect prediction\n",
    "  y_true = np.array([1, 0, 0]) # True label (one-hot encoded)\n",
    "  y_pred = np.array([0.3, 0.4, 0.3]) # Predicted probabilities\n",
    "  expected_loss = -np.log(0.3) # Expected loss for incorrect prediction\n",
    "  assert np.isclose(loss_softmax(y_true, y_pred), expected_loss), \"Test Case 2 Failed\"\n",
    "\n",
    "  # Test Case 3: Edge case with near-zero probability\n",
    "  y_true = np.array([0, 1, 0]) # True label (one-hot encoded)\n",
    "  y_pred = np.array([0.01, 0.98, 0.01]) # Predicted probabilities\n",
    "  expected_loss = -np.log(0.98) # Expected loss for edge case\n",
    "  assert np.isclose(loss_softmax(y_true, y_pred), expected_loss), \"Test Case 3 Failed\"\n",
    "  print(\"All test cases passed!\")\n",
    "# Run the test\n",
    "test_loss_softmax()"
   ]
  },
  {
   "cell_type": "code",
   "execution_count": 6,
   "metadata": {},
   "outputs": [],
   "source": [
    "def cost_softmax(X, y, W, b):\n",
    "    \"\"\"\n",
    "    Compute the average cross-entropy cost over all samples.\n",
    "    Parameters:\n",
    "      X (numpy.ndarray): Feature matrix of shape (n, d).\n",
    "      y (numpy.ndarray): True labels (one-hot encoded) of shape (n, c).\n",
    "      W (numpy.ndarray): Weight matrix of shape (d, c).\n",
    "      b (numpy.ndarray): Bias vector of shape (c,).\n",
    "    Returns:\n",
    "      float: Average cross-entropy cost over all samples.\n",
    "    \"\"\"\n",
    "    n, d = X.shape\n",
    "    y_pred = softmax(X @ W + b)\n",
    "    return loss_softmax(y, y_pred) / n"
   ]
  },
  {
   "cell_type": "code",
   "execution_count": 7,
   "metadata": {},
   "outputs": [
    {
     "name": "stdout",
     "output_type": "stream",
     "text": [
      "All test cases passed!\n"
     ]
    }
   ],
   "source": [
    "def test_cost_softmax():\n",
    "  \"\"\"\n",
    "    Test the cost_softmax function using a known input and output.\n",
    "  \"\"\"\n",
    "  # Test Case 1: Small dataset with perfect predictions\n",
    "  X = np.array([[1, 2], [2, 3], [3, 4]]) # Feature matrix (n=3, d=2)\n",
    "  y = np.array([[1, 0], [0, 1], [1, 0]]) # True labels (n=3, c=2, one-hot encoded)\n",
    "  W = np.array([[1, -1], [-1, 1]]) # Weight matrix (d=2, c=2)\n",
    "  b = np.array([0, 0]) # Bias vector (c=2)\n",
    "  z = np.dot(X, W) + b\n",
    "  y_pred = softmax(z) # Predicted probabilities\n",
    "  expected_cost = -np.sum(y * np.log(y_pred + 1e-10)) / X.shape[0] # Compute expected cost\n",
    "  assert np.isclose(cost_softmax(X, y, W, b), expected_cost), \"Test Case 1 Failed\"\n",
    "\n",
    "  # Test Case 2: All-zero weights and bias\n",
    "  X = np.array([[1, 0], [0, 1], [1, 1]]) # Feature matrix (n=3, d=2)\n",
    "  y = np.array([[1, 0], [0, 1], [1, 0]]) # True labels (n=3, c=2, one-hot encoded)\n",
    "  W = np.zeros((2, 2)) # Zero weight matrix\n",
    "  b = np.zeros(2) # Zero bias vector\n",
    "  z = np.dot(X, W) + b\n",
    "  y_pred = softmax(z) # Predicted probabilities (uniform distribution)\n",
    "  expected_cost = -np.sum(y * np.log(y_pred + 1e-10)) / X.shape[0] # Compute expected cost\n",
    "  assert np.isclose(cost_softmax(X, y, W, b), expected_cost), \"Test Case 2 Failed\"\n",
    "  print(\"All test cases passed!\")\n",
    "# Run the test\n",
    "test_cost_softmax()"
   ]
  },
  {
   "cell_type": "code",
   "execution_count": 8,
   "metadata": {},
   "outputs": [],
   "source": [
    "def compute_gradient_softmax(X, y, W, b):\n",
    "  \"\"\"\n",
    "  Compute the gradients of the cost function with respect to weights and biases.\n",
    "  Parameters:\n",
    "    X (numpy.ndarray): Feature matrix of shape (n, d).\n",
    "    y (numpy.ndarray): True labels (one-hot encoded) of shape (n, c).\n",
    "    W (numpy.ndarray): Weight matrix of shape (d, c).\n",
    "    b (numpy.ndarray): Bias vector of shape (c,).\n",
    "  Returns:\n",
    "    tuple: Gradients with respect to weights (d, c) and biases (c,).\n",
    "  \"\"\"\n",
    "  n, d = X.shape\n",
    "  y_pred = softmax(X @ W + b)\n",
    "  grad_W = X.T @ (y_pred -y) / n\n",
    "  grad_B = np.sum(y_pred - y, axis=0) / n\n",
    "  return grad_W, grad_B"
   ]
  },
  {
   "cell_type": "code",
   "execution_count": 9,
   "metadata": {},
   "outputs": [
    {
     "name": "stdout",
     "output_type": "stream",
     "text": [
      "All tests passed for compute_gradient_softmax!\n"
     ]
    }
   ],
   "source": [
    "def test_compute_gradient_softmax():\n",
    "  # Define simple inputs\n",
    "  X = np.array([[1, 2], [3, 4]]) # Shape (2, 2)\n",
    "  y = np.array([[1, 0], [0, 1]]) # Shape (2, 2), one-hot encoded\n",
    "  W = np.array([[0.1, 0.2], [0.3, 0.4]]) # Shape (2, 2)\n",
    "  b = np.array([0.01, 0.02]) # Shape (2,)\n",
    "\n",
    "  # Expected gradients (calculated manually or using a reference implementation)\n",
    "  z = np.dot(X, W) + b\n",
    "  y_pred = softmax(z)\n",
    "  grad_W_expected = np.dot(X.T, (y_pred - y)) / X.shape[0]\n",
    "  grad_b_expected = np.sum(y_pred - y, axis=0) / X.shape[0]\n",
    "  # Compute gradients using the function\n",
    "  grad_W, grad_b = compute_gradient_softmax(X, y, W, b)\n",
    "\n",
    "  # Assertions\n",
    "  assert np.allclose(grad_W, grad_W_expected, atol=1e-6), \"Gradient W does not match expected values\"\n",
    "  assert np.allclose(grad_b, grad_b_expected, atol=1e-6), \"Gradient b does not match expected values\"\n",
    "  print(\"All tests passed for compute_gradient_softmax!\")\n",
    "# Run the test\n",
    "test_compute_gradient_softmax()"
   ]
  },
  {
   "cell_type": "code",
   "execution_count": 10,
   "metadata": {},
   "outputs": [],
   "source": [
    "def gradient_descent_softmax(X, y, W, b, alpha, iterations, show_cost=False):\n",
    "    \"\"\"\n",
    "    Perform gradient descent to optimize the weights and biases.\n",
    "    Parameters:\n",
    "        X (numpy.ndarray): Feature matrix of shape (n, d).\n",
    "        y (numpy.ndarray): True labels (one-hot encoded) of shape (n, c).\n",
    "        W (numpy.ndarray): Weight matrix of shape (d, c).\n",
    "        b (numpy.ndarray): Bias vector of shape (c,).\n",
    "        alpha (float): Learning rate.\n",
    "        n_iter (int): Number of iterations.\n",
    "        show_cost (bool): Whether to display the cost at intervals.\n",
    "\n",
    "    Returns:\n",
    "        tuple: Optimized weights, biases, and cost history.\n",
    "    \"\"\"\n",
    "    cost_history = []\n",
    "    for i in range(iterations):\n",
    "        grad_W, grad_b = compute_gradient_softmax(X, y, W, b)\n",
    "        W -= alpha * grad_W\n",
    "        b -= alpha * grad_b\n",
    "        cost = cost_softmax(X, y, W, b)\n",
    "        cost_history.append(cost)\n",
    "\n",
    "        if show_cost and (i % 100 == 0 or i == iterations - 1):\n",
    "            print(f\"Iteration {i}: Cost = {cost:.6f}\")\n",
    "    return W, b, cost_history"
   ]
  },
  {
   "cell_type": "code",
   "execution_count": 11,
   "metadata": {},
   "outputs": [
    {
     "name": "stdout",
     "output_type": "stream",
     "text": [
      "[[ 0.97513796  0.77077745  0.97557444]\n",
      " [ 0.9137116  -0.0141303   0.23100734]\n",
      " [ 0.37388751  0.81218862  0.45523017]\n",
      " [ 0.23218787  0.80722163  0.45375723]\n",
      " [ 0.82645879  0.20672399  0.69604079]] [0.48004655 0.73661349 0.7497895 ] [1.1551154644885329, 1.1545575199604297, 1.1540071375650442, 1.1534642117870255, 1.1529286385727717, 1.1524003153098124, 1.1518791408064972, 1.1513650152719908, 1.150857840296561, 1.150357518832166, 1.149863955173326, 1.1493770549382818, 1.1488967250504352, 1.1484228737200606, 1.147955410426294, 1.147494245899385, 1.147039292103215, 1.146590462218071, 1.1461476706236777, 1.145710832882479, 1.145279865723166, 1.1448546870244483, 1.1444352157990643, 1.1440213721780268, 1.1436130773951, 1.143210253771504, 1.1428128247008424, 1.1424207146342524, 1.1420338490657702, 1.1416521545179088, 1.1412755585274497, 1.1409039896314348, 1.1405373773533674, 1.1401756521896105, 1.1398187455959796, 1.1394665899745342, 1.1391191186605552, 1.1387762659097098, 1.1384379668854046, 1.1381041576463151, 1.1377747751340965, 1.1374497571612698, 1.1371290423992797, 1.1368125703667227, 1.1365002814177432, 1.136192116730593, 1.1358880182963549, 1.1355879289078223, 1.1352917921485393, 1.1349995523819922, 1.1347111547409565, 1.1344265451169884, 1.1341456701500694, 1.1338684772183907, 1.1335949144282846, 1.1333249306042927, 1.1330584752793749, 1.1327954986852533, 1.1325359517428917, 1.1322797860531035, 1.1320269538872954, 1.131777408178333, 1.1315311025115364, 1.1312879911157985, 1.1310480288548264, 1.1308111712185012, 1.1305773743143595, 1.1303465948591884, 1.1301187901707381, 1.1298939181595467, 1.1296719373208772, 1.1294528067267628, 1.1292364860181643, 1.1290229353972296, 1.1288121156196622, 1.1286039879871919, 1.1283985143401465, 1.1281956570501273, 1.12799537901278, 1.1277976436406671, 1.1276024148562334, 1.127409657084868, 1.127219335248062, 1.1270314147566531, 1.1268458615041679, 1.126662641860247, 1.126481722664165, 1.126303071218433, 1.1261266552824887, 1.1259524430664714, 1.125780403225081, 1.125610504851518, 1.125442717471504, 1.1252770110373875, 1.1251133559223214, 1.124951722914523, 1.12479208321161, 1.1246344084150122, 1.1244786705244567, 1.1243248419325287, 1.1241728954193033, 1.1240228041470508, 1.1238745416550104, 1.1237280818542361, 1.1235833990225095, 1.123440467799321, 1.1232992631809193, 1.123159760515425, 1.1230219354980107, 1.1228857641661436, 1.1227512228948948, 1.1226182883923082, 1.1224869376948319, 1.1223571481628116, 1.122228897476043, 1.1221021636293835, 1.1219769249284235, 1.1218531599852133, 1.1217308477140506, 1.12160996732732, 1.1214904983313918, 1.1213724205225715, 1.1212557139831076, 1.1211403590772506, 1.1210263364473634, 1.1209136270100861, 1.120802211952551, 1.1206920727286473, 1.1205831910553377, 1.1204755489090212, 1.120369128521949, 1.1202639123786837, 1.120159883212608, 1.1200570240024823, 1.1199553179690431, 1.1198547485716517, 1.1197552995049866, 1.1196569546957786, 1.119559698299592, 1.1194635146976462, 1.1193683884936831, 1.1192743045108755, 1.119181247788774, 1.1190892035803004, 1.1189981573487768, 1.118908094764998, 1.1188190017043396, 1.1187308642439098, 1.1186436686597345, 1.1185574014239847, 1.1184720492022389, 1.1183875988507823, 1.118304037413944, 1.1182213521214677, 1.118139530385922, 1.1180585598001402, 1.1179784281346996, 1.1178991233354332, 1.1178206335209735, 1.1177429469803306, 1.1176660521705066, 1.1175899377141354, 1.1175145923971603, 1.1174400051665416, 1.1173661651279931, 1.1172930615437529, 1.1172206838303815, 1.1171490215565927, 1.1170780644411102, 1.1170078023505579, 1.1169382252973754, 1.1168693234377636, 1.1168010870696576, 1.1167335066307285, 1.1166665726964116, 1.1166002759779596, 1.1165346073205276, 1.1164695577012786, 1.1164051182275188, 1.1163412801348565, 1.116278034785387, 1.1162153736659028, 1.1161532883861272, 1.1160917706769728, 1.116030812388824, 1.1159704054898438, 1.1159105420643018, 1.1158512143109278, 1.1157924145412859, 1.1157341351781722, 1.1156763687540348, 1.1156191079094144, 1.1155623453914085, 1.1155060740521534, 1.1154502868473308, 1.1153949768346936, 1.115340137172611, 1.1152857611186355, 1.1152318420280891, 1.1151783733526688, 1.1151253486390713, 1.1150727615276381, 1.1150206057510175, 1.1149688751328464, 1.1149175635864512, 1.1148666651135644, 1.114816173803061, 1.114766083829712, 1.1147163894529553, 1.114667085015683, 1.114618164943047, 1.1145696237412808, 1.1145214559965353, 1.1144736563737365, 1.114426219615453, 1.1143791405407828, 1.1143324140442552, 1.1142860350947483, 1.1142399987344194, 1.1141943000776542, 1.1141489343100277, 1.1141038966872814, 1.1140591825343122, 1.1140147872441801, 1.1139707062771258, 1.1139269351596035, 1.1138834694833277, 1.1138403049043333, 1.1137974371420476, 1.1137548619783773, 1.113712575256808, 1.113670572881515, 1.1136288508164884, 1.1135874050846686, 1.1135462317670963, 1.1135053270020732, 1.1134646869843339, 1.1134243079642314, 1.1133841862469327, 1.113344318191626, 1.1133047002107397, 1.1132653287691712, 1.1132262003835287, 1.113187311621382, 1.113148659100524, 1.1131102394882446, 1.1130720495006121, 1.1130340859017671, 1.1129963455032241, 1.1129588251631874, 1.1129215217858712, 1.1128844323208325, 1.112847553762314, 1.1128108831485948, 1.1127744175613512, 1.1127381541250252, 1.112702090006205, 1.1126662224130108, 1.1126305485944934, 1.112595065840036, 1.11255977147877, 1.1125246628789958, 1.1124897374476133, 1.1124549926295595, 1.1124204259072554, 1.1123860348000607, 1.1123518168637339, 1.1123177696899038, 1.1122838909055464, 1.1122501781724694, 1.1122166291868045, 1.1121832416785074, 1.1121500134108637, 1.1121169421800035, 1.1120840258144216, 1.112051262174505, 1.1120186491520685, 1.1119861846698949, 1.111953866681282, 1.111921693169599, 1.1118896621478453, 1.1118577716582185, 1.111826019771687, 1.11179440458757, 1.111762924233123, 1.1117315768631286, 1.1117003606594946, 1.1116692738308565, 1.111638314612187, 1.1116074812644101, 1.1115767720740215, 1.1115461853527138, 1.1115157194370082, 1.1114853726878906, 1.1114551434904525, 1.1114250302535387, 1.1113950314093992, 1.1113651454133457, 1.1113353707434135, 1.1113057059000284, 1.111276149405679, 1.111246699804593, 1.1112173556624163, 1.1111881155659022, 1.1111589781225992, 1.1111299419605456, 1.111101005727971, 1.1110721680929978, 1.1110434277433496, 1.111014783386064, 1.110986233747208, 1.1109577775715993, 1.1109294136225305, 1.110901140681497, 1.1108729575479304, 1.110844863038935, 1.1108168559890264, 1.1107889352498777, 1.1107610996900654, 1.1107333481948223, 1.1107056796657908, 1.1106780930207831, 1.1106505871935424, 1.1106231611335087, 1.110595813805588, 1.1105685441899247, 1.1105413512816762, 1.110514234090794, 1.1104871916418038, 1.1104602229735914, 1.1104333271391928, 1.1104065032055834, 1.1103797502534742, 1.110353067377109, 1.1103264536840647, 1.1102999082950558, 1.1102734303437394, 1.1102470189765257, 1.110220673352389, 1.110194392642683, 1.110168176030959, 1.1101420227127838, 1.1101159318955658, 1.1100899027983764, 1.1100639346517818, 1.1100380266976708, 1.1100121781890893, 1.109986388390074, 1.1099606565754925, 1.1099349820308815, 1.1099093640522901, 1.1098838019461246, 1.109858295028996, 1.1098328426275683, 1.1098074440784116, 1.1097820987278542, 1.1097568059318395, 1.1097315650557837, 1.1097063754744365, 1.1096812365717421, 1.1096561477407039, 1.1096311083832515, 1.1096061179101073, 1.1095811757406577, 1.1095562813028248, 1.10953143403294, 1.1095066333756203, 1.1094818787836453, 1.1094571697178364, 1.1094325056469387, 1.1094078860475027, 1.1093833104037707, 1.1093587782075616, 1.1093342889581586, 1.1093098421622, 1.1092854373335703, 1.1092610739932922, 1.1092367516694213, 1.1092124698969428, 1.1091882282176684, 1.1091640261801348, 1.1091398633395055, 1.109115739257472, 1.109091653502157, 1.1090676056480193, 1.1090435952757611, 1.109019621972234, 1.108995685330349, 1.1089717849489873, 1.1089479204329098, 1.108924091392673, 1.108900297444541, 1.108876538210402, 1.1088528133176847, 1.1088291223992766, 1.1088054650934425, 1.1087818410437458, 1.1087582498989699, 1.10873469131304, 1.108711164944948, 1.1086876704586768, 1.108664207523127, 1.1086407758120436, 1.1086173750039443, 1.1085940047820493, 1.1085706648342109, 1.1085473548528453, 1.108524074534865, 1.1085008235816125, 1.108477601698794, 1.1084544085964156, 1.1084312439887183, 1.108408107594117, 1.1083849991351373, 1.108361918338355, 1.1083388649343364, 1.1083158386575787, 1.1082928392464522, 1.1082698664431425, 1.1082469199935945, 1.108223999647456, 1.1082011051580238, 1.1081782362821884, 1.1081553927803818, 1.108132574416524, 1.1081097809579732, 1.1080870121754722, 1.1080642678431003, 1.1080415477382233, 1.1080188516414438, 1.1079961793365556, 1.1079735306104936, 1.1079509052532888, 1.1079283030580225, 1.1079057238207808, 1.1078831673406093, 1.1078606334194712, 1.1078381218622013, 1.1078156324764663, 1.1077931650727206, 1.1077707194641662, 1.1077482954667113, 1.107725892898931, 1.107703511582027, 1.1076811513397897, 1.107658811998557, 1.1076364933871812, 1.1076141953369874, 1.1075919176817388, 1.1075696602576015, 1.1075474229031061, 1.1075252054591158, 1.107503007768789, 1.1074808296775478, 1.1074586710330419, 1.1074365316851178, 1.1074144114857851, 1.1073923102891852, 1.1073702279515578, 1.1073481643312129, 1.107326119288497, 1.1073040926857651, 1.1072820843873497, 1.107260094259532, 1.1072381221705134, 1.1072161679903854, 1.1071942315911043, 1.1071723128464606, 1.1071504116320536, 1.1071285278252652, 1.1071066613052312, 1.1070848119528167, 1.1070629796505915, 1.1070411642828022, 1.10701936573535, 1.1069975838957644, 1.1069758186531795, 1.106954069898311, 1.106932337523432, 1.1069106214223492, 1.1068889214903825, 1.10686723762434, 1.1068455697224977, 1.1068239176845762, 1.1068022814117213, 1.1067806608064812, 1.1067590557727864, 1.106737466215929, 1.1067158920425428, 1.106694333160583, 1.1066727894793074, 1.1066512609092554, 1.1066297473622315, 1.1066082487512852, 1.106586764990691, 1.106565295995934, 1.1065438416836877, 1.1065224019718005, 1.1065009767792744, 1.1064795660262512]\n"
     ]
    },
    {
     "data": {
      "image/png": "[encoded data removed]",
      "text/plain": [
       "<Figure size 800x600 with 1 Axes>"
      ]
     },
     "metadata": {},
     "output_type": "display_data"
    },
    {
     "name": "stdout",
     "output_type": "stream",
     "text": [
      "Initial Cost: 1.1551154644885329\n",
      "Final Cost: 1.1064795660262512\n"
     ]
    }
   ],
   "source": [
    "def test_gradient_descent_softmax_with_plot():\n",
    "  # Generate synthetic data for testing\n",
    "  np.random.seed(0)\n",
    "  n, d, c = 100, 5, 3 # 100 samples, 5 features, 3 classes\n",
    "  X = np.random.rand(n, d)\n",
    "  y_indices = np.random.randint(0, c, size=n)\n",
    "  y = np.zeros((n, c))\n",
    "  y[np.arange(n), y_indices] = 1 # One-hot encoding\n",
    "\n",
    "  # Initialize weights and biases\n",
    "  b = np.random.rand(c)\n",
    "  W = np.random.rand(d, c)\n",
    "\n",
    "  # Parameters for gradient descent\n",
    "  alpha = 0.01 # Learning rate\n",
    "  n_iter = 500 # Number of iterations\n",
    "  \n",
    "  # Run gradient descent\n",
    "  W_opt, b_opt, cost_history = gradient_descent_softmax(X, y, W, b, alpha, n_iter, show_cost=False)\n",
    "  print(W_opt, b_opt, cost_history)\n",
    "  # Plot the cost history\n",
    "  plt.figure(figsize=(8, 6))\n",
    "  plt.plot(range(n_iter), cost_history, label=\"Cost\")\n",
    "  plt.xlabel(\"Iteration\")\n",
    "  plt.ylabel(\"Cost\")\n",
    "  plt.title(\"Cost Reduction Over Iterations (Learning Rate: {alpha})\")\n",
    "  plt.legend()\n",
    "  plt.grid()\n",
    "  plt.show()\n",
    "  # Final cost should ideally be less than initial cost\n",
    "  print(f\"Initial Cost: {cost_history[0]}\")\n",
    "  print(f\"Final Cost: {cost_history[-1]}\")\n",
    "test_gradient_descent_softmax_with_plot()"
   ]
  },
  {
   "cell_type": "code",
   "execution_count": 12,
   "metadata": {},
   "outputs": [],
   "source": [
    "def predict_softmax(X, W, b):\n",
    "    \"\"\"\n",
    "    Predict the class labels for input data.\n",
    "    Parameters:\n",
    "        X (numpy.ndarray): Feature matrix of shape (n, d).\n",
    "        W (numpy.ndarray): Weight matrix of shape (d, c).\n",
    "        b (numpy.ndarray): Bias vector of shape (c,).\n",
    "\n",
    "    Returns:\n",
    "        numpy.ndarray: Predicted class labels of shape (n,).\n",
    "    \"\"\"\n",
    "    z = (X @ W) + b.reshape(1, -1)\n",
    "    y_pred = softmax(z)\n",
    "    return np.argmax(y_pred, axis=1)"
   ]
  },
  {
   "cell_type": "code",
   "execution_count": 13,
   "metadata": {},
   "outputs": [
    {
     "name": "stdout",
     "output_type": "stream",
     "text": [
      "All tests passed for predict_softmax!\n"
     ]
    }
   ],
   "source": [
    "def test_predict_softmax():\n",
    "    np.random.seed(0)\n",
    "    # Generate synthetic data for testing\n",
    "    n, d, c = 10, 5, 3  # 10 samples, 5 features, 3 classes\n",
    "    X = np.random.rand(n, d)\n",
    "    W = np.random.rand(d, c)\n",
    "    b = np.random.rand(c)\n",
    "\n",
    "    predictions = predict_softmax(X, W, b)\n",
    "    # Check the shape of the output\n",
    "    assert predictions.shape == (\n",
    "        n,\n",
    "    ), f\"Shape mismatch: expected {(n,)}, got {predictions.shape}\"\n",
    "    # Verify that all predicted labels are within the range of class indices\n",
    "    assert np.all(predictions >= 0) and np.all(\n",
    "        predictions < c\n",
    "    ), f\"Predictions out of range: expected 0 to {c-1}, got {predictions}\"\n",
    "    # Check that the predicted labels are integers\n",
    "    assert np.issubdtype(\n",
    "        predictions.dtype, np.integer\n",
    "    ), f\"Predictions are not integers: {predictions.\n",
    "  dtype}\"\n",
    "    print(\"All tests passed for predict_softmax!\")\n",
    "\n",
    "\n",
    "# Run the test\n",
    "test_predict_softmax()"
   ]
  },
  {
   "cell_type": "code",
   "execution_count": 14,
   "metadata": {},
   "outputs": [],
   "source": [
    "def evaluate_classification(y_true, y_pred):\n",
    "  \"\"\"\n",
    "    Evaluate the classification performance using confusion matrix, precision, recall, and F1-score.\n",
    "    Parameters:\n",
    "    y_true (numpy.ndarray): True class labels of shape (n,).\n",
    "    y_pred (numpy.ndarray): Predicted class labels of shape (n,).\n",
    "    Returns:\n",
    "    tuple: Confusion matrix, precision, recall, and F1-score.\n",
    "  \"\"\"\n",
    "\n",
    "  from sklearn.metrics import confusion_matrix, precision_score, recall_score, f1_score\n",
    "  cm = confusion_matrix(y_true, y_pred)\n",
    "  precision = precision_score(y_true, y_pred, average=\"weighted\", zero_division=0)\n",
    "  recall = recall_score(y_true, y_pred, average=\"weighted\", zero_division=0)\n",
    "  f1 = f1_score(y_true, y_pred, average=\"weighted\", zero_division=0)\n",
    "  return cm, precision, recall, f1"
   ]
  },
  {
   "cell_type": "code",
   "execution_count": 15,
   "metadata": {},
   "outputs": [
    {
     "name": "stdout",
     "output_type": "stream",
     "text": [
      "Dataset Info:\n",
      "<class 'pandas.core.frame.DataFrame'>\n",
      "RangeIndex: 150 entries, 0 to 149\n",
      "Data columns (total 4 columns):\n",
      " #   Column             Non-Null Count  Dtype  \n",
      "---  ------             --------------  -----  \n",
      " 0   sepal length (cm)  150 non-null    float64\n",
      " 1   sepal width (cm)   150 non-null    float64\n",
      " 2   petal length (cm)  150 non-null    float64\n",
      " 3   petal width (cm)   150 non-null    float64\n",
      "dtypes: float64(4)\n",
      "memory usage: 4.8 KB\n"
     ]
    }
   ],
   "source": [
    "from sklearn.datasets import load_iris\n",
    "from sklearn.model_selection import train_test_split\n",
    "from sklearn.preprocessing import StandardScaler, OneHotEncoder\n",
    "\n",
    "# Load the Iris dataset\n",
    "iris = load_iris()\n",
    "X = pd.DataFrame(iris.data, columns=iris.feature_names)\n",
    "y = pd.Series(iris.target, name=\"target\")\n",
    "# Display information about the dataset before cleaning\n",
    "print(\"Dataset Info:\")\n",
    "X.info()"
   ]
  },
  {
   "cell_type": "code",
   "execution_count": 16,
   "metadata": {},
   "outputs": [
    {
     "name": "stdout",
     "output_type": "stream",
     "text": [
      "\n",
      "Dataset Description Before Cleaning:\n"
     ]
    },
    {
     "data": {
      "text/html": [
       "<div>\n",
       "<style scoped>\n",
       "    .dataframe tbody tr th:only-of-type {\n",
       "        vertical-align: middle;\n",
       "    }\n",
       "\n",
       "    .dataframe tbody tr th {\n",
       "        vertical-align: top;\n",
       "    }\n",
       "\n",
       "    .dataframe thead th {\n",
       "        text-align: right;\n",
       "    }\n",
       "</style>\n",
       "<table border=\"1\" class=\"dataframe\">\n",
       "  <thead>\n",
       "    <tr style=\"text-align: right;\">\n",
       "      <th></th>\n",
       "      <th>sepal length (cm)</th>\n",
       "      <th>sepal width (cm)</th>\n",
       "      <th>petal length (cm)</th>\n",
       "      <th>petal width (cm)</th>\n",
       "    </tr>\n",
       "  </thead>\n",
       "  <tbody>\n",
       "    <tr>\n",
       "      <th>count</th>\n",
       "      <td>150.000000</td>\n",
       "      <td>150.000000</td>\n",
       "      <td>150.000000</td>\n",
       "      <td>150.000000</td>\n",
       "    </tr>\n",
       "    <tr>\n",
       "      <th>mean</th>\n",
       "      <td>5.843333</td>\n",
       "      <td>3.057333</td>\n",
       "      <td>3.758000</td>\n",
       "      <td>1.199333</td>\n",
       "    </tr>\n",
       "    <tr>\n",
       "      <th>std</th>\n",
       "      <td>0.828066</td>\n",
       "      <td>0.435866</td>\n",
       "      <td>1.765298</td>\n",
       "      <td>0.762238</td>\n",
       "    </tr>\n",
       "    <tr>\n",
       "      <th>min</th>\n",
       "      <td>4.300000</td>\n",
       "      <td>2.000000</td>\n",
       "      <td>1.000000</td>\n",
       "      <td>0.100000</td>\n",
       "    </tr>\n",
       "    <tr>\n",
       "      <th>25%</th>\n",
       "      <td>5.100000</td>\n",
       "      <td>2.800000</td>\n",
       "      <td>1.600000</td>\n",
       "      <td>0.300000</td>\n",
       "    </tr>\n",
       "    <tr>\n",
       "      <th>50%</th>\n",
       "      <td>5.800000</td>\n",
       "      <td>3.000000</td>\n",
       "      <td>4.350000</td>\n",
       "      <td>1.300000</td>\n",
       "    </tr>\n",
       "    <tr>\n",
       "      <th>75%</th>\n",
       "      <td>6.400000</td>\n",
       "      <td>3.300000</td>\n",
       "      <td>5.100000</td>\n",
       "      <td>1.800000</td>\n",
       "    </tr>\n",
       "    <tr>\n",
       "      <th>max</th>\n",
       "      <td>7.900000</td>\n",
       "      <td>4.400000</td>\n",
       "      <td>6.900000</td>\n",
       "      <td>2.500000</td>\n",
       "    </tr>\n",
       "  </tbody>\n",
       "</table>\n",
       "</div>"
      ],
      "text/plain": [
       "       sepal length (cm)  sepal width (cm)  petal length (cm)  \\\n",
       "count         150.000000        150.000000         150.000000   \n",
       "mean            5.843333          3.057333           3.758000   \n",
       "std             0.828066          0.435866           1.765298   \n",
       "min             4.300000          2.000000           1.000000   \n",
       "25%             5.100000          2.800000           1.600000   \n",
       "50%             5.800000          3.000000           4.350000   \n",
       "75%             6.400000          3.300000           5.100000   \n",
       "max             7.900000          4.400000           6.900000   \n",
       "\n",
       "       petal width (cm)  \n",
       "count        150.000000  \n",
       "mean           1.199333  \n",
       "std            0.762238  \n",
       "min            0.100000  \n",
       "25%            0.300000  \n",
       "50%            1.300000  \n",
       "75%            1.800000  \n",
       "max            2.500000  "
      ]
     },
     "execution_count": 16,
     "metadata": {},
     "output_type": "execute_result"
    }
   ],
   "source": [
    "print(\"\\nDataset Description Before Cleaning:\")\n",
    "X.describe()"
   ]
  },
  {
   "cell_type": "code",
   "execution_count": 22,
   "metadata": {},
   "outputs": [
    {
     "name": "stdout",
     "output_type": "stream",
     "text": [
      "<class 'numpy.ndarray'>\n"
     ]
    },
    {
     "data": {
      "text/plain": [
       "array([[1., 0., 0.],\n",
       "       [1., 0., 0.],\n",
       "       [1., 0., 0.],\n",
       "       [1., 0., 0.],\n",
       "       [1., 0., 0.],\n",
       "       [1., 0., 0.],\n",
       "       [1., 0., 0.],\n",
       "       [1., 0., 0.],\n",
       "       [1., 0., 0.],\n",
       "       [1., 0., 0.],\n",
       "       [1., 0., 0.],\n",
       "       [1., 0., 0.],\n",
       "       [1., 0., 0.],\n",
       "       [1., 0., 0.],\n",
       "       [1., 0., 0.],\n",
       "       [1., 0., 0.],\n",
       "       [1., 0., 0.],\n",
       "       [1., 0., 0.],\n",
       "       [1., 0., 0.],\n",
       "       [1., 0., 0.],\n",
       "       [1., 0., 0.],\n",
       "       [1., 0., 0.],\n",
       "       [1., 0., 0.],\n",
       "       [1., 0., 0.],\n",
       "       [1., 0., 0.],\n",
       "       [1., 0., 0.],\n",
       "       [1., 0., 0.],\n",
       "       [1., 0., 0.],\n",
       "       [1., 0., 0.],\n",
       "       [1., 0., 0.],\n",
       "       [1., 0., 0.],\n",
       "       [1., 0., 0.],\n",
       "       [1., 0., 0.],\n",
       "       [1., 0., 0.],\n",
       "       [1., 0., 0.],\n",
       "       [1., 0., 0.],\n",
       "       [1., 0., 0.],\n",
       "       [1., 0., 0.],\n",
       "       [1., 0., 0.],\n",
       "       [1., 0., 0.],\n",
       "       [1., 0., 0.],\n",
       "       [1., 0., 0.],\n",
       "       [1., 0., 0.],\n",
       "       [1., 0., 0.],\n",
       "       [1., 0., 0.],\n",
       "       [1., 0., 0.],\n",
       "       [1., 0., 0.],\n",
       "       [1., 0., 0.],\n",
       "       [1., 0., 0.],\n",
       "       [1., 0., 0.],\n",
       "       [0., 1., 0.],\n",
       "       [0., 1., 0.],\n",
       "       [0., 1., 0.],\n",
       "       [0., 1., 0.],\n",
       "       [0., 1., 0.],\n",
       "       [0., 1., 0.],\n",
       "       [0., 1., 0.],\n",
       "       [0., 1., 0.],\n",
       "       [0., 1., 0.],\n",
       "       [0., 1., 0.],\n",
       "       [0., 1., 0.],\n",
       "       [0., 1., 0.],\n",
       "       [0., 1., 0.],\n",
       "       [0., 1., 0.],\n",
       "       [0., 1., 0.],\n",
       "       [0., 1., 0.],\n",
       "       [0., 1., 0.],\n",
       "       [0., 1., 0.],\n",
       "       [0., 1., 0.],\n",
       "       [0., 1., 0.],\n",
       "       [0., 1., 0.],\n",
       "       [0., 1., 0.],\n",
       "       [0., 1., 0.],\n",
       "       [0., 1., 0.],\n",
       "       [0., 1., 0.],\n",
       "       [0., 1., 0.],\n",
       "       [0., 1., 0.],\n",
       "       [0., 1., 0.],\n",
       "       [0., 1., 0.],\n",
       "       [0., 1., 0.],\n",
       "       [0., 1., 0.],\n",
       "       [0., 1., 0.],\n",
       "       [0., 1., 0.],\n",
       "       [0., 1., 0.],\n",
       "       [0., 1., 0.],\n",
       "       [0., 1., 0.],\n",
       "       [0., 1., 0.],\n",
       "       [0., 1., 0.],\n",
       "       [0., 1., 0.],\n",
       "       [0., 1., 0.],\n",
       "       [0., 1., 0.],\n",
       "       [0., 1., 0.],\n",
       "       [0., 1., 0.],\n",
       "       [0., 1., 0.],\n",
       "       [0., 1., 0.],\n",
       "       [0., 1., 0.],\n",
       "       [0., 1., 0.],\n",
       "       [0., 1., 0.],\n",
       "       [0., 1., 0.],\n",
       "       [0., 1., 0.],\n",
       "       [0., 0., 1.],\n",
       "       [0., 0., 1.],\n",
       "       [0., 0., 1.],\n",
       "       [0., 0., 1.],\n",
       "       [0., 0., 1.],\n",
       "       [0., 0., 1.],\n",
       "       [0., 0., 1.],\n",
       "       [0., 0., 1.],\n",
       "       [0., 0., 1.],\n",
       "       [0., 0., 1.],\n",
       "       [0., 0., 1.],\n",
       "       [0., 0., 1.],\n",
       "       [0., 0., 1.],\n",
       "       [0., 0., 1.],\n",
       "       [0., 0., 1.],\n",
       "       [0., 0., 1.],\n",
       "       [0., 0., 1.],\n",
       "       [0., 0., 1.],\n",
       "       [0., 0., 1.],\n",
       "       [0., 0., 1.],\n",
       "       [0., 0., 1.],\n",
       "       [0., 0., 1.],\n",
       "       [0., 0., 1.],\n",
       "       [0., 0., 1.],\n",
       "       [0., 0., 1.],\n",
       "       [0., 0., 1.],\n",
       "       [0., 0., 1.],\n",
       "       [0., 0., 1.],\n",
       "       [0., 0., 1.],\n",
       "       [0., 0., 1.],\n",
       "       [0., 0., 1.],\n",
       "       [0., 0., 1.],\n",
       "       [0., 0., 1.],\n",
       "       [0., 0., 1.],\n",
       "       [0., 0., 1.],\n",
       "       [0., 0., 1.],\n",
       "       [0., 0., 1.],\n",
       "       [0., 0., 1.],\n",
       "       [0., 0., 1.],\n",
       "       [0., 0., 1.],\n",
       "       [0., 0., 1.],\n",
       "       [0., 0., 1.],\n",
       "       [0., 0., 1.],\n",
       "       [0., 0., 1.],\n",
       "       [0., 0., 1.],\n",
       "       [0., 0., 1.],\n",
       "       [0., 0., 1.],\n",
       "       [0., 0., 1.],\n",
       "       [0., 0., 1.],\n",
       "       [0., 0., 1.]])"
      ]
     },
     "execution_count": 22,
     "metadata": {},
     "output_type": "execute_result"
    }
   ],
   "source": [
    "X = iris.data # Creates a Feature Matrix\n",
    "y = iris.target # Creates a Target Vector\n",
    "encoder = OneHotEncoder(sparse_output=False)\n",
    "y_onehot = encoder.fit_transform(y.reshape(-1, 1))\n",
    "y_onehot"
   ]
  },
  {
   "cell_type": "code",
   "execution_count": 40,
   "metadata": {},
   "outputs": [
    {
     "name": "stdout",
     "output_type": "stream",
     "text": [
      "(150, 4) (150, 3) (30, 3) (120, 3)\n",
      "Shape assertions passed!\n"
     ]
    }
   ],
   "source": [
    "# Split data into train and test sets\n",
    "X_train, X_test, y_train, y_test = train_test_split(X, y_onehot, test_size=0.2, random_state=42, stratify=y)\n",
    "\n",
    "print(X.shape, y_onehot.shape, y_test.shape, y_train.shape)\n",
    "# Initialize the scaler and scale the data\n",
    "scaler = StandardScaler()\n",
    "X_train_scaled = scaler.fit_transform(X_train)\n",
    "X_test_scaled = scaler.transform(X_test)\n",
    "\n",
    "# Assertions to check the shape of X_train_scaled and X_test_scaled\n",
    "assert X_train_scaled.shape == (X_train.shape[0], X_train.shape[1]), f\"X_train_scaled shape mismatch: {\n",
    "X_train_scaled.shape}\"\n",
    "assert X_test_scaled.shape == (X_test.shape[0], X_test.shape[1]), f\"X_test_scaled shape mismatch: {\n",
    "X_test_scaled.shape}\"\n",
    "print(\"Shape assertions passed!\")"
   ]
  },
  {
   "cell_type": "code",
   "execution_count": 41,
   "metadata": {},
   "outputs": [
    {
     "name": "stdout",
     "output_type": "stream",
     "text": [
      "\n",
      "Training Softmax Regression Model:\n",
      "Iteration 0: Cost = 1.006823\n",
      "Iteration 100: Cost = 0.319428\n",
      "Iteration 200: Cost = 0.251376\n",
      "Iteration 300: Cost = 0.211741\n",
      "Iteration 400: Cost = 0.185004\n",
      "Iteration 500: Cost = 0.165744\n",
      "Iteration 600: Cost = 0.151226\n",
      "Iteration 700: Cost = 0.139898\n",
      "Iteration 800: Cost = 0.130812\n",
      "Iteration 900: Cost = 0.123360\n",
      "Iteration 999: Cost = 0.117192\n"
     ]
    },
    {
     "data": {
      "image/png": "[encoded data removed]",
      "text/plain": [
       "<Figure size 900x600 with 1 Axes>"
      ]
     },
     "metadata": {},
     "output_type": "display_data"
    }
   ],
   "source": [
    "# Intitalizations:\n",
    "num_classes = y_train.shape[1]\n",
    "num_features = X_train_scaled.shape[1]\n",
    "W = np.zeros((num_features, num_classes))\n",
    "b = np.zeros(num_classes)\n",
    "alpha = 0.1\n",
    "n_iter = 1000\n",
    "\n",
    "print(\"\\nTraining Softmax Regression Model:\")\n",
    "W, b, cost_history = gradient_descent_softmax(X_train_scaled, y_train, W, b, alpha, n_iter, show_cost=True)\n",
    "#Plot Cost Vs. Iterations:\n",
    "plt.figure(figsize=(9, 6))\n",
    "plt.plot(cost_history)\n",
    "plt.xlabel(\"Iteration\", fontsize=14)\n",
    "plt.ylabel(\"Cost\", fontsize=14)\n",
    "plt.title(\"Cost vs Iteration\", fontsize=14)\n",
    "plt.tight_layout()\n",
    "plt.show()\n",
    "plt.show()"
   ]
  },
  {
   "cell_type": "code",
   "execution_count": 42,
   "metadata": {},
   "outputs": [
    {
     "name": "stdout",
     "output_type": "stream",
     "text": [
      "(30,) (30, 3)\n",
      "\n",
      "Train Loss (Cost): 0.1172\n",
      "Test Loss (Cost): 0.1575\n"
     ]
    }
   ],
   "source": [
    "# Test model\n",
    "y_train_pred = predict_softmax(X_train_scaled, W, b)\n",
    "y_test_pred = predict_softmax(X_test_scaled, W, b)\n",
    "\n",
    "print(y_test_pred.shape, y_test.shape)\n",
    "# Evaluate train and test performance\n",
    "train_cost = cost_softmax(X_train_scaled, y_train, W, b)\n",
    "test_cost = cost_softmax(X_test_scaled, y_test, W, b)\n",
    "print(f\"\\nTrain Loss (Cost): {train_cost:.4f}\")\n",
    "print(f\"Test Loss (Cost): {test_cost:.4f}\")"
   ]
  },
  {
   "cell_type": "code",
   "execution_count": 43,
   "metadata": {},
   "outputs": [
    {
     "name": "stdout",
     "output_type": "stream",
     "text": [
      "\n",
      "Test Accuracy: 93.33%\n",
      "\n",
      "Confusion Matrix:\n",
      "[[10  0  0]\n",
      " [ 0  9  1]\n",
      " [ 0  1  9]]\n",
      "Precision: 0.93\n",
      "Recall: 0.93\n",
      "F1-Score: 0.93\n"
     ]
    },
    {
     "data": {
      "image/png": "[encoded data removed]",
      "text/plain": [
       "<Figure size 600x600 with 1 Axes>"
      ]
     },
     "metadata": {},
     "output_type": "display_data"
    }
   ],
   "source": [
    "# Accuracy on test data\n",
    "y_test_true = np.argmax(y_test, axis=1)\n",
    "\n",
    "test_accuracy = np.mean(y_test_pred == y_test_true) * 100\n",
    "print(f\"\\nTest Accuracy: {test_accuracy:.2f}%\")\n",
    "\n",
    "# Evaluation\n",
    "cm, precision, recall, f1 = evaluate_classification(y_test_true, y_test_pred)\n",
    "print(\"\\nConfusion Matrix:\")\n",
    "print(cm)\n",
    "print(f\"Precision: {precision:.2f}\")\n",
    "print(f\"Recall: {recall:.2f}\")\n",
    "print(f\"F1-Score: {f1:.2f}\")\n",
    "# Visualizing Confusion Matrix\n",
    "# Visualization\n",
    "fig, ax = plt.subplots(figsize=(6, 6))\n",
    "ax.imshow(cm, cmap='Blues') # Use a color map for better visualization\n",
    "# Set tick labels for the axes\n",
    "ax.set_xticks(range(3))\n",
    "ax.set_yticks(range(3))\n",
    "ax.set_xticklabels(['Predicted 0', 'Predicted 1', 'Predicted 2'])\n",
    "ax.set_yticklabels(['Actual 0', ' Actual 1', 'Actual 2'])\n",
    "# Add labels to each cell in the confusion matrix\n",
    "for i in range(cm.shape[0]):\n",
    "  for j in range(cm.shape[1]):\n",
    "    ax.text(j, i, cm[i, j], ha='center', va='center', color='white' if cm[i, j] > np.max(cm) / 2 else 'black')\n",
    "\n",
    "# Add grid lines and axis labels\n",
    "ax.grid(False)\n",
    "plt.title('Confusion Matrix', fontsize=14)\n",
    "plt.xlabel( 'Actual Label', fontsize=12)\n",
    "plt.ylabel('Actual Label', fontsize=12)\n",
    "plt.tight_layout()\n",
    "plt.show()"
   ]
  }
 ],
 "metadata": {
  "kernelspec": {
   "display_name": "base",
   "language": "python",
   "name": "python3"
  },
  "language_info": {
   "codemirror_mode": {
    "name": "ipython",
    "version": 3
   },
   "file_extension": ".py",
   "mimetype": "text/x-python",
   "name": "python",
   "nbconvert_exporter": "python",
   "pygments_lexer": "ipython3",
   "version": "3.12.4"
  }
 },
 "nbformat": 4,
 "nbformat_minor": 2
}
